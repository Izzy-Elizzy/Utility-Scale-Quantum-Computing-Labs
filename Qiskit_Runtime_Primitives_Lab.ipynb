{
 "cells": [
  {
   "cell_type": "code",
   "execution_count": null,
   "metadata": {},
   "outputs": [],
   "source": [
    "# Lab: Qiskit Runtime Primitives V2 - Hands-on Exploration\n",
    "# Based on the Presentation: \"Qiskit Runtime Primitives V2: Supercharging Your Quantum Programs\"\n",
    "\n",
    "# Welcome to the Qiskit Runtime Primitives V2 Lab!\n",
    "# In this lab, you will get hands-on experience with Sampler V2 and Estimator V2,\n",
    "# the core primitives of Qiskit Runtime. You will learn how to use them to execute\n",
    "# quantum circuits, retrieve measurement data, and estimate expectation values efficiently.\n",
    "\n",
    "# Let's get started!\n",
    "\n",
    "# Setup - Import necessary Qiskit Runtime and standard Qiskit libraries\n",
    "# Uncomment pip install if needed in your environment\n",
    "#!pip install qiskit-ibm-runtime\n",
    "import qiskit\n",
    "import numpy as np\n",
    "import matplotlib.pyplot as plt\n",
    "from qiskit.circuit import QuantumCircuit, Parameter\n",
    "from qiskit.visualization import plot_histogram, array_to_latex\n",
    "from qiskit.quantum_info import SparsePauliOp\n",
    "\n",
    "# Import Qiskit Runtime primitives and service\n",
    "from qiskit_ibm_runtime import QiskitRuntimeService, SamplerV2, EstimatorV2, Session\n",
    "\n",
    "print(\"Setup complete! Qiskit Runtime libraries imported.\")"
   ]
  },
  {
   "cell_type": "markdown",
   "metadata": {},
   "source": [
    "## Part 1: Introduction to Qiskit Runtime Primitives V2\n",
    "\n",
    "In this lab, we'll be working with Qiskit Runtime Primitives V2.  As you learned in the presentation, these primitives offer an efficient way to execute quantum programs on IBM Quantum hardware.\n",
    "\n",
    "We will explore two main primitives:\n",
    "\n",
    "*   **Sampler V2:** For low-level execution and retrieving raw measurement outcomes (single-shot data).\n",
    "*   **Estimator V2:** For high-level estimation of expectation values of observables.\n",
    "\n",
    "Let's start with Sampler V2.\n",
    "\n",
    "## Part 2: Sampler V2 - Exploring Measurement Outcomes\n",
    "\n",
    "### Step 1: Load Runtime Service and Select Backend\n",
    "\n",
    "First, we need to load your Qiskit Runtime Service account and select a backend to run our circuits on.\n",
    "\n",
    "**Task 1:** Run the code cell below to initialize the Runtime Service and select a backend.\n",
    "\n",
    "*Make sure you have configured your Qiskit Runtime Service account credentials. Replace `\"YOUR_IBM_QUANTUM_SERVICE_INSTANCE\"` and `\"YOUR_BACKEND_NAME\"` with your actual service instance and backend name if needed.*"
   ]
  },
  {
   "cell_type": "code",
   "execution_count": null,
   "metadata": {},
   "outputs": [],
   "source": [
    "# Initialize Qiskit Runtime Service (replace with your instance and backend)\n",
    "service = QiskitRuntimeService(instance=\"YOUR_IBM_QUANTUM_SERVICE_INSTANCE\") # Replace with your instance\n",
    "backend = service.backend(\"YOUR_BACKEND_NAME\") # Replace with your backend name\n",
    "\n",
    "print(f\"Service initialized, using backend: {backend.name}\")"
   ]
  },
  {
   "cell_type": "markdown",
   "metadata": {},
   "source": [
    "### Step 2: Create and Transpile a Bell State Circuit\n",
    "\n",
    "Let's create a simple Bell state circuit with measurement, similar to the example in the presentation. We'll then transpile it to be compatible with the backend we selected.\n",
    "\n",
    "**Task 2:** Run the code cell below to create and transpile the Bell state measurement circuit."
   ]
  },
  {
   "cell_type": "code",
   "execution_count": null,
   "metadata": {},
   "outputs": [],
   "source": [
    "# Create a Bell circuit with measurement\n",
    "bell_meas_circuit = QuantumCircuit(2, 2) # 2 qubits, 2 classical bits\n",
    "bell_meas_circuit.h(0)\n",
    "bell_meas_circuit.cx(0, 1)\n",
    "bell_meas_circuit.measure([0, 1], [0, 1])\n",
    "\n",
    "# Transpile the circuit for the selected backend\n",
    "isa_bell_meas_circuit = transpile(bell_meas_circuit, backend)\n",
    "\n",
    "print(\"Bell state measurement circuit created and transpiled.\")\n",
    "bell_meas_circuit.draw('mpl') # Draw the abstract circuit"
   ]
  },
  {
   "cell_type": "markdown",
   "metadata": {},
   "source": [
    "### Step 3: Initialize Sampler V2 and Run the Circuit\n",
    "\n",
    "Now we'll initialize the Sampler V2 primitive and run our transpiled Bell state circuit.\n",
    "\n",
    "**Task 3:** Run the code cell below to initialize Sampler V2 and execute the Bell circuit.\n",
    "\n",
    "*Observe the output.* We are running the circuit with `shots=10` and storing the `SamplerResult` in `sampler_result`."
   ]
  },
  {
   "cell_type": "code",
   "execution_count": null,
   "metadata": {},
   "outputs": [],
   "source": [
    "# Initialize Sampler V2\n",
    "sampler = SamplerV2(backend=backend)\n",
    "\n",
    "# Construct the pub (Primitive Unified Bloc) - for non-parametric circuit, it's just the circuit\n",
    "pub_bell_meas = (isa_bell_meas_circuit,)\n",
    "\n",
    "# Run the circuit using Sampler V2\n",
    "sampler_job = sampler.run(pubs=[pub_bell_meas], shots=10)\n",
    "sampler_result = sampler_job.result()\n",
    "\n",
    "print(\"Sampler V2 job submitted and results retrieved.\")"
   ]
  },
  {
   "cell_type": "markdown",
   "metadata": {},
   "source": [
    "### Step 4: Explore Sampler V2 Results - `DataBin` and `BitArray`\n",
    "\n",
    "Let's explore the results we got from Sampler V2. We'll access the `DataBin` and `BitArray` objects to see the measurement outcomes.\n",
    "\n",
    "**Task 4:** Run the code cell below to explore the `SamplerResult`, `DataBin`, and `BitArray`.\n",
    "\n",
    "*Examine the output.* The code will:\n",
    "\n",
    "*   Access the `PubResult` object from `sampler_result`.\n",
    "*   Get the `DataBin` object from `PubResult.data`.\n",
    "*   Get the `BitArray` object from `DataBin.meas`.\n",
    "*   Print various attributes of the `BitArray`: `shape`, `num_bits`, `num_shots`, and the raw `array` data.\n",
    "*   Convert the `BitArray` to bitstrings and counts dictionary for easier interpretation."
   ]
  },
  {
   "cell_type": "code",
   "execution_count": null,
   "metadata": {},
   "outputs": [],
   "source": [
    "# Access PubResult and DataBin\n",
    "pub_result_bell_meas = sampler_result[0] # Get the PubResult for the first (and only) pub\n",
    "data_bin_bell_meas = pub_result_bell_meas.data\n",
    "bit_array_bell_meas = data_bin_bell_meas.meas\n",
    "\n",
    "print(\"BitArray Data Exploration:\")\n",
    "print(f\"Shape: {bit_array_bell_meas.shape}\")\n",
    "print(f\"Number of bits per shot: {bit_array_bell_meas.num_bits}\")\n",
    "print(f\"Number of shots: {bit_array_bell_meas.num_shots}\")\n",
    "print(f\"\\nRaw array data (first few elements):\\n {bit_array_bell_meas.array[:5]}\") # Print first 5 elements\n",
    "\n",
    "# Get bitstrings and counts for easier interpretation\n",
    "bitstrings = bit_array_bell_meas.get_bitstrings()\n",
    "counts = bit_array_bell_meas.get_counts()\n",
    "\n",
    "print(f\"\\nBitstrings (first few):\\n {bitstrings[:5]}\")\n",
    "print(f\"\\nCounts Dictionary:\\n {counts}\")"
   ]
  },
  {
   "cell_type": "markdown",
   "metadata": {},
   "source": [
    "### Step 5: Run with Different Shots Values\n",
    "\n",
    "Let's experiment with running the Sampler V2 with different numbers of shots. We can specify shots in the `sampler.run()` method.\n",
    "\n",
    "**Task 5:** Run the code cell below to execute the Bell circuit with different shot values (100 and 1000 shots).\n",
    "\n",
    "*Observe the output.* Notice how the `num_shots` attribute in the `BitArray` changes based on the `shots` value you provide in `sampler.run()`."
   ]
  },
  {
   "cell_type": "code",
   "execution_count": null,
   "metadata": {},
   "outputs": [],
   "source": [
    "# Run with shots=100\n",
    "sampler_job_100 = sampler.run(pubs=[pub_bell_meas], shots=100)\n",
    "result_100 = sampler_job_100.result()\n",
    "bit_array_100 = result_100[0].data.meas\n",
    "print(f\"BitArray for shots=100 - Num Shots: {bit_array_100.num_shots}\")\n",
    "\n",
    "# Run with shots=1000\n",
    "sampler_job_1000 = sampler.run(pubs=[pub_bell_meas], shots=1000)\n",
    "result_1000 = sampler_job_1000.result()\n",
    "bit_array_1000 = result_1000[0].data.meas\n",
    "print(f\"BitArray for shots=1000 - Num Shots: {bit_array_1000.num_shots}\")"
   ]
  },
  {
   "cell_type": "markdown",
   "metadata": {},
   "source": [
    "### Step 6: Explore Parametric Circuits with Sampler V2 (Optional)\n",
    "\n",
    "**(Optional Task):** Let's briefly explore how Sampler V2 handles parametric circuits. We'll create a simple parametric circuit and run it with Sampler V2.\n",
    "\n",
    "**Task 6 (Optional):** Run the code cell below to create a parametric circuit, define parameter values, and run it with Sampler V2.\n",
    "\n",
    "*Observe the output and the shape of the `BitArray`.* Notice how the `BitArray` shape now reflects the shape of your `parameter_values` array."
   ]
  },
  {
   "cell_type": "code",
   "execution_count": null,
   "metadata": {},
   "outputs": [],
   "source": [
    "# Create a parametric circuit\n",
    "param_circuit = QuantumCircuit(1, 1)\n",
    "theta = Parameter('theta')\n",
    "param_circuit.ry(theta, 0)\n",
    "param_circuit.measure(0, 0)\n",
    "\n",
    "# Transpile parametric circuit\n",
    "isa_param_circuit = transpile(param_circuit, backend)\n",
    "\n",
    "# Parameter values to evaluate\n",
    "param_values = np.linspace(0, np.pi, 5) # 5 theta values from 0 to pi\n",
    "\n",
    "# Construct pub with parametric circuit and parameter values\n",
    "pub_param = (isa_param_circuit, param_values)\n",
    "\n",
    "# Run with Sampler V2\n",
    "sampler_job_param = sampler.run(pubs=[pub_param], shots=100)\n",
    "sampler_result_param = sampler_job_param.result()\n",
    "bit_array_param = sampler_result_param[0].data.meas\n",
    "\n",
    "print(\"\\nParametric Circuit BitArray Exploration:\")\n",
    "print(f\"BitArray Shape for Parametric Circuit: {bit_array_param.shape}\") # Shape should be (5,) - reflecting param_vals\n",
    "print(f\"Number of shots per parameter set: {bit_array_param.num_shots}\")"
   ]
  },
  {
   "cell_type": "markdown",
   "metadata": {},
   "source": [
    "## Part 3: Estimator V2 - Estimating Expectation Values\n",
    "\n",
    "Now, let's move on to Estimator V2, which is designed for estimating expectation values.\n",
    "\n",
    "### Step 7: Create a Bell State Circuit (No Measurement) and an Observable\n",
    "\n",
    "For Estimator V2, our circuit should **not** include measurements. We will estimate the expectation value of an observable on the state prepared by this circuit. Let's use the Bell state circuit again, but without the measurement gates.  We'll also define a simple Pauli \"ZZ\" observable.\n",
    "\n",
    "**Task 7:** Run the code cell below to create a Bell state circuit (no measurement) and the \"ZZ\" observable."
   ]
  },
  {
   "cell_type": "code",
   "execution_count": null,
   "metadata": {},
   "outputs": [],
   "source": [
    "# Create a Bell circuit WITHOUT measurement\n",
    "bell_circuit_est = QuantumCircuit(2) # No classical bits needed\n",
    "bell_circuit_est.h(0)\n",
    "bell_circuit_est.cx(0, 1)\n",
    "\n",
    "# Transpile the circuit for Estimator\n",
    "isa_bell_est_circuit = transpile(bell_circuit_est, backend)\n",
    "\n",
    "# Create a ZZ observable (SparsePauliOp)\n",
    "zz_observable = SparsePauliOp([\"ZZ\"])\n",
    "\n",
    "print(\"Bell state circuit (for Estimator) and ZZ observable created.\")\n",
    "bell_circuit_est.draw('mpl') # Draw the abstract circuit (no measurements)"
   ]
  },
  {
   "cell_type": "markdown",
   "metadata": {},
   "source": [
    "### Step 8: Initialize Estimator V2 and Run for Expectation Value\n",
    "\n",
    "Now we initialize the Estimator V2 primitive and run it with our Bell state circuit and \"ZZ\" observable.\n",
    "\n",
    "**Task 8:** Run the code cell below to initialize Estimator V2 and estimate the expectation value of \"ZZ\" for the Bell state.\n",
    "\n",
    "*Observe the output.*  The `EstimatorResult` will contain the estimated expectation value (`evs`) and its standard error (`stds`). For the Bell state Φ+ and the ZZ observable, the expectation value should be close to 1."
   ]
  },
  {
   "cell_type": "code",
   "execution_count": null,
   "metadata": {},
   "outputs": [],
   "source": [
    "# Initialize Estimator V2\n",
    "estimator = EstimatorV2(backend=backend)\n",
    "\n",
    "# Construct the pub for Estimator V2 - needs circuit and observables\n",
    "pub_bell_est = (isa_bell_est_circuit, zz_observable)\n",
    "\n",
    "# Run Estimator V2\n",
    "estimator_job = estimator.run(pubs=[pub_bell_est])\n",
    "estimator_result = estimator_job.result()\n",
    "\n",
    "# Extract expectation value and standard error\n",
    "expectation_value = estimator_result[0].data.evs\n",
    "standard_error = estimator_result[0].data.stds\n",
    "\n",
    "print(\"Estimator V2 job submitted and results retrieved.\")\n",
    "print(f\"Estimated Expectation Value of <ZZ> for Bell State: {expectation_value:.4f} ± {standard_error:.4f}\")"
   ]
  },
  {
   "cell_type": "markdown",
   "metadata": {},
   "source": [
    "### Step 9: Explore Estimator V2 Results - `DataBin` (evs and stds)\n",
    "\n",
    "Let's examine the `EstimatorResult` and `DataBin` from Estimator V2.\n",
    "\n",
    "**Task 9:** Run the code cell below to explore the `EstimatorResult` and `DataBin`.\n",
    "\n",
    "*Observe the output.* Notice how the `DataBin` for Estimator V2 contains `evs` and `stds` attributes, which are NumPy arrays representing the expectation values and standard errors."
   ]
  },
  {
   "cell_type": "code",
   "execution_count": null,
   "metadata": {},
   "outputs": [],
   "source": [
    "# Access PubResult and DataBin for Estimator\n",
    "pub_result_est = estimator_result[0]\n",
    "data_bin_est = pub_result_est.data\n",
    "\n",
    "# Access evs and stds from DataBin\n",
    "evs = data_bin_est.evs\n",
    "stds = data_bin_est.stds\n",
    "\n",
    "print(\"Estimator DataBin Exploration:\")\n",
    "print(f\"Expectation Values (evs): {evs}\")\n",
    "print(f\"Standard Errors (stds): {stds}\")"
   ]
  },
  {
   "cell_type": "markdown",
   "metadata": {},
   "source": [
    "### Step 10: Parametric Circuit & Multiple Observables with Estimator V2 (Optional)\n",
    "\n",
    "**(Optional Task):** Let's try a more complex example with Estimator V2, using a parametric circuit and multiple observables (XX, YY, ZZ).\n",
    "\n",
    "**Task 10 (Optional):** Run the code cell below to create a parametric circuit, define multiple observables, and run Estimator V2 to estimate their expectation values.\n",
    "\n",
    "*Observe the output and the shape of `evs` and `stds`.* Notice how the shape now reflects both the parameter values (if you used them) and the number of observables."
   ]
  },
  {
   "cell_type": "code",
   "execution_count": null,
   "metadata": {},
   "outputs": [],
   "source": [
    "# Create a parametric Bell circuit (same as in Sampler example)\n",
    "par_bell_circuit_est = QuantumCircuit(2)\n",
    "theta_est = Parameter('theta')\n",
    "par_bell_circuit_est.ry(theta_est, 0)\n",
    "par_bell_circuit_est.cx(0, 1)\n",
    "isa_par_bell_circuit_est = transpile(par_bell_circuit_est, backend)\n",
    "\n",
    "# Parameter values for parametric circuit\n",
    "param_vals_est = np.linspace(0, np.pi, 10) # 10 theta values\n",
    "\n",
    "# Create multiple observables (XX, YY, ZZ) - as SparsePauliOps\n",
    "observables_list = [SparsePauliOp([\"XX\"]), SparsePauliOp([\"YY\"]), SparsePauliOp([\"ZZ\"])]\n",
    "\n",
    "# Construct pub with parametric circuit, observables, and parameter values\n",
    "pub_param_est = (isa_par_bell_circuit_est, observables_list, param_vals_est)\n",
    "\n",
    "# Run Estimator V2 with parametric circuit and multiple observables\n",
    "estimator_job_param = estimator.run(pubs=[pub_param_est])\n",
    "estimator_result_param = estimator_job_param.result()\n",
    "data_bin_param_est = estimator_result_param[0].data\n",
    "\n",
    "evs_param = data_bin_param_est.evs\n",
    "stds_param = data_bin_param_est.stds\n",
    "\n",
    "print(\"\\nEstimator V2 Parametric Circuit & Multiple Observables Exploration:\")\n",
    "print(f\"Expectation Values (evs) Shape: {evs_param.shape}\") # Shape should be (3, 10) or (10, 3) due to broadcasting\n",
    "print(f\"Standard Errors (stds) Shape: {stds_param.shape}\")\n",
    "\n",
    "# You can further process and plot evs_param to visualize the expectation values for different observables and parameters"
   ]
  },
  {
   "cell_type": "markdown",
   "metadata": {},
   "source": [
    "## Part 4: Explore Runtime Options (Challenges - Optional)\n",
    "\n",
    "**(Optional Challenges):** For more advanced exploration, try experimenting with Runtime Options to control error mitigation and execution behavior.\n",
    "\n",
    "### Challenge 1: Experiment with Twirling Options in Sampler V2\n",
    "\n",
    "**Task (Challenge 1):** Modify the Sampler V2 initialization to enable Pauli Twirling and explore different twirling strategies.\n",
    "\n",
    "*Refer to the presentation slides on \"Twirling Options\" and \"Twirling Strategy\" for available options.*\n",
    "\n",
    "*Try different combinations of `enable_gates`, `enable_measure`, and `strategy` options in the `SamplerV2` constructor or by setting `sampler.options.twirling`.*\n",
    "\n",
    "*Run the Bell state measurement circuit (or your parametric circuit) with twirling enabled and compare the results to the baseline without twirling.*\n",
    "\n",
    "*Observe if twirling affects the measurement outcomes or reduces noise in your simulation results (you might need to simulate on a noisy simulator or real hardware to see a significant effect of error mitigation).*"
   ]
  },
  {
   "cell_type": "code",
   "execution_count": null,
   "metadata": {},
   "outputs": [],
   "source": [
    "# Challenge 1 Code (Example - Experiment with Twirling Options in Sampler V2)\n",
    "\n",
    "# Example 1: Enable gate twirling with 'active-circuit' strategy\n",
    "\n",
    "twirling_sampler_1 = SamplerV2(backend=backend, options={\"twirling\": {\"enable_gates\": True, \"strategy\": \"active-circuit\"}})\n",
    "\n",
    "# Run Bell circuit with twirling_sampler_1 and compare results to baseline sampler\n",
    "\n",
    "# Example 2: Enable both gate and measure twirling\n",
    "\n",
    "twirling_sampler_2 = SamplerV2(backend=backend, options={\"twirling\": {\"enable_gates\": True, \"enable_measure\": True}})\n",
    "\n",
    "# Run Bell circuit with twirling_sampler_2 and compare results\n",
    "\n",
    "# ... (Add your code to run simulations and compare results with different twirling options) ..."
   ]
  },
  {
   "cell_type": "markdown",
   "metadata": {},
   "source": [
    "### Challenge 2: Experiment with Resilience Levels in Estimator V2\n",
    "\n",
    "**Task (Challenge 2):** Modify the Estimator V2 initialization to explore different `resilience_level` options.\n",
    "\n",
    "*Refer to the presentation slides on \"Estimator Resilience Levels\" and \"Estimator Resilience Sub-Options\" for available levels and customization options.*\n",
    "\n",
    "*Try initializing `EstimatorV2` with different `resilience_level` values (0, 1, 2) and observe the impact on the estimated expectation values and standard errors.*\n",
    "\n",
    "*For more advanced exploration, try customizing resilience options further using `estimator.options.resilience` and sub-options like `zne`, `pec`, etc.*\n",
    "\n",
    "*Run the Bell state expectation value estimation (or your parametric circuit example) with different resilience levels and compare the results. You might need to run on a noisy simulator or real hardware to see the effects of error mitigation more clearly.*"
   ]
  },
  {
   "cell_type": "code",
   "execution_count": null,
   "metadata": {},
   "outputs": [],
   "source": [
    "# Challenge 2 Code (Example - Experiment with Resilience Levels in Estimator V2)\n",
    "\n",
    "# Example 1: Initialize Estimator with resilience_level=1\n",
    "\n",
    "resilient_estimator_1 = EstimatorV2(backend=backend, options={\"resilience_level\": 1})\n",
    "\n",
    "# Run Bell state expectation value estimation with resilient_estimator_1 and compare to baseline estimator\n",
    "\n",
    "# Example 2: Initialize Estimator with resilience_level=2 and customize ZNE extrapolator\n",
    "\n",
    "resilient_estimator_2 = EstimatorV2(backend=backend, options={\"resilience_level\": 2,\n",
    "                                                               \"resilience\": {\"zne\": {\"extrapolator\": \"linear\"}}})\n",
    "\n",
    "\n",
    "# Run Bell state expectation value estimation with resilient_estimator_2 and compare results\n",
    "\n",
    "# ... (Add your code to run simulations and compare results with different resilience levels) ..."
   ]
  },
  {
   "cell_type": "markdown",
   "metadata": {},
   "source": [
    "## Conclusion - Qiskit Runtime Primitives V2: Your Gateway to Efficient Quantum Computing\n",
    "\n",
    "Congratulations on completing the Qiskit Runtime Primitives V2 Lab!  In this lab, you have:\n",
    "\n",
    "*   Explored **Sampler V2** for low-level circuit execution and raw measurement data.\n",
    "*   Explored **Estimator V2** for high-level expectation value estimation.\n",
    "*   Learned how to use `Sampler.run()` and `Estimator.run()` with Primitive Unified Blocs (pubs).\n",
    "*   Examined the structure of `SamplerResult` and `EstimatorResult` and how to access measurement data and expectation values.\n",
    "*   (Optionally) Experimented with parametric circuits, multiple observables, and Runtime Options like Twirling and Resilience.\n",
    "\n",
    "Qiskit Runtime Primitives V2 provide powerful tools for building and running efficient quantum programs on IBM Quantum hardware. By mastering these primitives and their options, you are well-equipped to tackle more complex quantum algorithms and applications!\n",
    "\n",
    "**Further Resources:**\n",
    "\n",
    "*   Qiskit Docs and Tutorials: [https://docs.quantum.ibm.com/](https://docs.quantum.ibm.com/)\n",
    "*   Qiskit Primitives Docs: [https://docs.quantum.ibm.com/run/primitives](https://docs.quantum.ibm.com/run/primitives)\n",
    "*   Qiskit Runtime API Docs: [https://docs.quantum.ibm.com/api/qiskit-ibm-runtime/runtime_service](https://docs.quantum.ibm.com/api/qiskit-ibm-runtime/runtime_service)\n",
    "\n",
    "**Thank you for participating in the lab! Keep building and exploring the quantum world with Qiskit Runtime!**"
   ]
  }
 ],
 "metadata": {
  "kernelspec": {
   "display_name": "Python 3",
   "language": "python",
   "name": "python3"
  },
  "language_info": {
   "codemirror_mode": {
    "name": "ipython",
    "version": 3
   },
   "file_extension": ".py",
   "mimetype": "text/x-python",
   "name": "python",
   "nbconvert_exporter": "python",
   "pygments_lexer": "ipython3",
   "version": "3.10.9"
  }
 },
 "nbformat": 4,
 "nbformat_minor": 2
}
