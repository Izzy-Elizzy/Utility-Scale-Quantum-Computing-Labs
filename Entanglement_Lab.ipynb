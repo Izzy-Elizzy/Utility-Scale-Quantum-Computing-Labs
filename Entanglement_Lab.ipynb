{
 "cells": [
  {
   "cell_type": "markdown",
   "metadata": {},
   "source": [
    "# Quantum Teleportation Lab\n",
    "\n",
    "This Jupyter Notebook demonstrates the principles of quantum teleportation, a technique for transferring an unknown quantum state from one qubit to another without physically moving the qubit itself. We will use Qiskit to simulate this process.\n",
    "\n",
    "## 1. Setting up the Environment\n",
    "\n",
    "First, we import the necessary libraries from Qiskit and NumPy. Execute the code cell below to import these libraries."
   ]
  },
  {
   "cell_type": "code",
   "execution_count": 122,
   "metadata": {},
   "outputs": [],
   "source": [
    "import numpy as np\n",
    "from numpy import pi, random\n",
    "import matplotlib.pyplot as plt\n",
    "\n",
    "from qiskit import QuantumCircuit, QuantumRegister, ClassicalRegister, transpile, assemble\n",
    "from qiskit_aer import AerSimulator\n",
    "from qiskit.visualization import plot_histogram, array_to_latex\n",
    "from qiskit.circuit.library import UGate"
   ]
  },
  {
   "cell_type": "markdown",
   "metadata": {},
   "source": [
    "## 2. Creating the Quantum Circuit\n",
    "\n",
    "We initialize a quantum circuit with three qubits and three classical bits.\n",
    "\n",
    "*   **q0:** Alice's qubit (the qubit whose state will be teleported).\n",
    "*   **q1:** Entangled qubit 1 (shared between Alice and Bob).\n",
    "*   **q2:** Bob's qubit (the target qubit where the state will be teleported to).\n",
    "*   **c0, c1, c2:** Classical bits to store measurement results.\n",
    "\n",
    "Execute the code cell below to create the quantum circuit."
   ]
  },
  {
   "cell_type": "code",
   "execution_count": 123,
   "metadata": {},
   "outputs": [],
   "source": [
    "# Creating Quantum Circuit with 3 qubits and 3 classical bits\n",
    "qr = QuantumRegister(3, 'q')  # q0: Alice's qubit (to teleport), q1: Entangled qubit 1, q2: Bob's qubit (target)\n",
    "cr = ClassicalRegister(3, 'c')\n",
    "qc = QuantumCircuit(qr, cr)"
   ]
  },
  {
   "cell_type": "markdown",
   "metadata": {},
   "source": [
    "## 3. Preparing the Quantum State to be Teleported\n",
    "\n",
    "We will create a random quantum state to be teleported. This state is *unknown* to Bob (and even Alice, in the sense that it's randomly generated each time).  We use a general single-qubit unitary gate (UGate) to create this random state and apply it to Alice's qubit (q0).\n",
    "\n",
    "Execute the code cell to create and apply the random quantum state. You will also see the LaTeX representation of the random unitary gate applied."
   ]
  },
  {
   "cell_type": "code",
   "execution_count": 124,
   "metadata": {},
   "outputs": [
    {
     "data": {
      "text/latex": [
       "$$\n",
       "U = \n",
       "\\begin{bmatrix}\n",
       "-0.5130154313 & -0.8553347796 - 0.0722328321 i  \\\\\n",
       " -0.8567004671 - 0.053660758 i & 0.507497196 + 0.0750428466 i  \\\\\n",
       " \\end{bmatrix}\n",
       "$$"
      ],
      "text/plain": [
       "<IPython.core.display.Latex object>"
      ]
     },
     "metadata": {},
     "output_type": "display_data"
    },
    {
     "data": {
      "text/plain": [
       "CircuitInstruction(operation=Instruction(name='barrier', num_qubits=3, num_clbits=0, params=[]), qubits=(Qubit(QuantumRegister(3, 'q'), 0), Qubit(QuantumRegister(3, 'q'), 1), Qubit(QuantumRegister(3, 'q'), 2)), clbits=())"
      ]
     },
     "execution_count": 124,
     "metadata": {},
     "output_type": "execute_result"
    }
   ],
   "source": [
    "# Preparing the Quantum State to be Teleported - Unknown State (Random)\n",
    "random_gate = UGate( # Using UGate for general single-qubit state\n",
    "    theta=random.random() * 2 * pi,\n",
    "    phi=random.random() * 2 * pi,\n",
    "    lam=random.random() * 2 * pi\n",
    ")\n",
    "display(array_to_latex(random_gate.to_matrix(), prefix=\"U = \")) # Display LaTeX of random unitary\n",
    "\n",
    "qc.append(random_gate, [qr[0]]) # Apply random unitary to q0 (Alice's qubit)\n",
    "qc.barrier() # Visual barrier for circuit diagram clarity"
   ]
  },
  {
   "cell_type": "markdown",
   "metadata": {},
   "source": [
    "## 4. Creating the Entangled Pair (Bell State)\n",
    "\n",
    "Entanglement is the crucial quantum resource for teleportation. We create a maximally entangled Bell state (|Φ⁺⟩) between qubit q1 (with Alice) and qubit q2 (with Bob). This entangled pair is created *before* Alice knows the state to be teleported.\n",
    "\n",
    "Execute the code cell to create the entangled Bell pair in the circuit."
   ]
  },
  {
   "cell_type": "code",
   "execution_count": 125,
   "metadata": {},
   "outputs": [
    {
     "data": {
      "text/plain": [
       "CircuitInstruction(operation=Instruction(name='barrier', num_qubits=3, num_clbits=0, params=[]), qubits=(Qubit(QuantumRegister(3, 'q'), 0), Qubit(QuantumRegister(3, 'q'), 1), Qubit(QuantumRegister(3, 'q'), 2)), clbits=())"
      ]
     },
     "execution_count": 125,
     "metadata": {},
     "output_type": "execute_result"
    }
   ],
   "source": [
    "# Creating the Entangled Pair (Bell State - Phi+) - Entanglement Resource!\n",
    "qc.h(qr[1])      # Hadamard gate on q1\n",
    "qc.cx(qr[1], qr[2])  # CNOT gate entangling q1 and q2\n",
    "qc.barrier() # Visual barrier"
   ]
  },
  {
   "cell_type": "markdown",
   "metadata": {},
   "source": [
    "## 5. Bell Measurement\n",
    "\n",
    "Alice performs a Bell measurement on her qubit (q0, carrying the unknown state) and her half of the entangled pair (q1). This measurement projects the qubits into one of the four Bell states and extracts classical information about the unknown state.\n",
    "\n",
    "Execute the code cell to add the Bell measurement to the circuit."
   ]
  },
  {
   "cell_type": "code",
   "execution_count": 126,
   "metadata": {},
   "outputs": [
    {
     "data": {
      "text/plain": [
       "CircuitInstruction(operation=Instruction(name='barrier', num_qubits=3, num_clbits=0, params=[]), qubits=(Qubit(QuantumRegister(3, 'q'), 0), Qubit(QuantumRegister(3, 'q'), 1), Qubit(QuantumRegister(3, 'q'), 2)), clbits=())"
      ]
     },
     "execution_count": 126,
     "metadata": {},
     "output_type": "execute_result"
    }
   ],
   "source": [
    "# Bell Measurement by Alice\n",
    "qc.cx(qr[0], qr[1])  # CNOT between q0 and q1\n",
    "qc.h(qr[0])       # Hadamard on q0\n",
    "qc.barrier() # Visual barrier"
   ]
  },
  {
   "cell_type": "markdown",
   "metadata": {},
   "source": [
    "## 6. Measurement and Classical Communication\n",
    "\n",
    "Alice measures her qubits (q0 and q1) in the computational basis. The measurement outcomes (classical bits c0 and c1) represent the classical information that needs to be communicated to Bob. In a real teleportation experiment, Alice would send these classical bits to Bob via a classical channel (like the internet or phone). In our simulation, this communication is handled implicitly within Qiskit.\n",
    "\n",
    "Execute the code cell to add the measurements for classical communication."
   ]
  },
  {
   "cell_type": "code",
   "execution_count": 127,
   "metadata": {},
   "outputs": [
    {
     "data": {
      "text/plain": [
       "CircuitInstruction(operation=Instruction(name='barrier', num_qubits=3, num_clbits=0, params=[]), qubits=(Qubit(QuantumRegister(3, 'q'), 0), Qubit(QuantumRegister(3, 'q'), 1), Qubit(QuantumRegister(3, 'q'), 2)), clbits=())"
      ]
     },
     "execution_count": 127,
     "metadata": {},
     "output_type": "execute_result"
    }
   ],
   "source": [
    "# Measurement and Classical Communication (Simulated within circuit)\n",
    "qc.measure([qr[0], qr[1]], [cr[0], cr[1]]) # Measure q0 and q1, store in c0 and c1\n",
    "qc.barrier() # Visual barrier"
   ]
  },
  {
   "cell_type": "markdown",
   "metadata": {},
   "source": [
    "## 7. Transformation on Bob's Qubit (Bob's Correction)\n",
    "\n",
    "Based on the classical information (c0 and c1) received from Alice (simulated by the measurement outcomes), Bob applies specific quantum gates to his qubit (q2) to reconstruct the teleported state. These gates are conditional, meaning they are applied *only if* the corresponding classical bit is 1.\n",
    "\n",
    "Execute the code cell to add the conditional gates for Bob's correction."
   ]
  },
  {
   "cell_type": "code",
   "execution_count": 128,
   "metadata": {},
   "outputs": [
    {
     "name": "stderr",
     "output_type": "stream",
     "text": [
      "C:\\Users\\izzye\\AppData\\Local\\Temp\\ipykernel_11468\\2067590571.py:2: DeprecationWarning: The method ``qiskit.circuit.instructionset.InstructionSet.c_if()`` is deprecated as of qiskit 1.3.0. It will be removed in 2.0.0.\n",
      "  qc.x(qr[2]).c_if(cr[1], 1) # Apply X gate to q2 if c1 (Alice's 2nd measurement) is 1\n",
      "C:\\Users\\izzye\\AppData\\Local\\Temp\\ipykernel_11468\\2067590571.py:3: DeprecationWarning: The method ``qiskit.circuit.instructionset.InstructionSet.c_if()`` is deprecated as of qiskit 1.3.0. It will be removed in 2.0.0.\n",
      "  qc.z(qr[2]).c_if(cr[0], 1) # Apply Z gate to q2 if c0 (Alice's 1st measurement) is 1\n"
     ]
    },
    {
     "data": {
      "text/plain": [
       "CircuitInstruction(operation=Instruction(name='barrier', num_qubits=3, num_clbits=0, params=[]), qubits=(Qubit(QuantumRegister(3, 'q'), 0), Qubit(QuantumRegister(3, 'q'), 1), Qubit(QuantumRegister(3, 'q'), 2)), clbits=())"
      ]
     },
     "execution_count": 128,
     "metadata": {},
     "output_type": "execute_result"
    }
   ],
   "source": [
    "# Conditional Transformation on Bob's Qubit (Bob's Correction)\n",
    "qc.x(qr[2]).c_if(cr[1], 1) # Apply X gate to q2 if c1 (Alice's 2nd measurement) is 1\n",
    "qc.z(qr[2]).c_if(cr[0], 1) # Apply Z gate to q2 if c0 (Alice's 1st measurement) is 1\n",
    "qc.barrier() # Visual barrier"
   ]
  },
  {
   "cell_type": "markdown",
   "metadata": {},
   "source": [
    "## 8. Recovering the Original State (Verification)\n",
    "\n",
    "To verify that teleportation has worked, we apply the *inverse* of the initial random unitary gate (UGate) to Bob's qubit (q2). If teleportation is successful, applying this inverse gate should ideally return Bob's qubit (q2) to the |0> state (or a state close to |0>, given the probabilistic nature of quantum mechanics and simulations).\n",
    "\n",
    "Execute the code cell to add the inverse UGate for verification and a final barrier."
   ]
  },
  {
   "cell_type": "code",
   "execution_count": 129,
   "metadata": {},
   "outputs": [
    {
     "data": {
      "text/plain": [
       "CircuitInstruction(operation=Instruction(name='barrier', num_qubits=3, num_clbits=0, params=[]), qubits=(Qubit(QuantumRegister(3, 'q'), 0), Qubit(QuantumRegister(3, 'q'), 1), Qubit(QuantumRegister(3, 'q'), 2)), clbits=())"
      ]
     },
     "execution_count": 129,
     "metadata": {},
     "output_type": "execute_result"
    }
   ],
   "source": [
    "# Recovering the Original State (Inverse of Random Gate - for Verification)\n",
    "qc.append(random_gate.inverse(), [qr[2]]) # Apply inverse UGate to q2\n",
    "qc.barrier() # Visual barrier"
   ]
  },
  {
   "cell_type": "markdown",
   "metadata": {},
   "source": [
    "## 9. Measurement and Verification - Bob's Final Measurement\n",
    "\n",
    "Finally, Bob measures his qubit (q2) in the computational basis. If teleportation was successful, we expect the measurement outcome of q2 (stored in classical bit c2) to be consistent with the initial state of q0 (before teleportation).  Ideally, if we targeted teleporting a state close to |0>, we expect to see counts mostly for classical bit c2 being 0. Due to the random initial state and simulation, we will examine the histogram of counts to analyze the outcome.\n",
    "\n",
    "Execute the code cell to add the final measurement and visualize the circuit diagram. The circuit diagram will be displayed below the code cell."
   ]
  },
  {
   "cell_type": "code",
   "execution_count": 130,
   "metadata": {},
   "outputs": [
    {
     "name": "stdout",
     "output_type": "stream",
     "text": [
      "--- Quantum Teleportation Circuit Diagram ---\n"
     ]
    },
    {
     "data": {
      "image/png": "[encoded data removed]",
      "text/plain": [
       "<Figure size 1792.5x367.889 with 1 Axes>"
      ]
     },
     "metadata": {},
     "output_type": "display_data"
    }
   ],
   "source": [
    "# Measurement and Verification - Bob's Final Measurement\n",
    "qc.measure(qr[2], cr[2]) # Measure q2 (Bob's qubit) and store in c2\n",
    "\n",
    "# Circuit Visualization\n",
    "print(\"--- Quantum Teleportation Circuit Diagram ---\")\n",
    "display(qc.draw(output='mpl')) # Display circuit diagram"
   ]
  },
  {
   "cell_type": "markdown",
   "metadata": {},
   "source": [
    "## 10. Circuit Simulation and Results\n",
    "\n",
    "Now, we simulate the quantum circuit using Qiskit's AerSimulator. We run the simulation for 1024 shots to get statistically meaningful results. After simulation, we plot a histogram of the measurement outcomes to visualize the results.\n",
    "\n",
    "Execute the code cell to run the simulation and display the histogram of measurement outcomes. The histogram will appear below the code cell."
   ]
  },
  {
   "cell_type": "code",
   "execution_count": 131,
   "metadata": {},
   "outputs": [
    {
     "name": "stdout",
     "output_type": "stream",
     "text": [
      "--- Measurement Outcome Histogram ---\n",
      "\n",
      "Approximate Fidelity to |0> state (based on c2=0 counts): 0.2520\n"
     ]
    }
   ],
   "source": [
    "# Circuit Visualization and Simulation\n",
    "simulator = AerSimulator()\n",
    "job = simulator.run(qc, shots=1024)\n",
    "result = job.result()\n",
    "counts = result.get_counts(qc)\n",
    "\n",
    "print(\"--- Measurement Outcome Histogram ---\")\n",
    "plot_histogram(counts)\n",
    "plt.show() # Show histogram plot\n",
    "\n",
    "outputstate = '000' # We expect c2 to be 0 if teleportation worked and inverse gate returned q2 to |0>\n",
    "if outputstate in counts:\n",
    "    fidelity_output_0 = counts[outputstate]/1024 # Rough fidelity if focusing on |0> output\n",
    "    print(f\"\\nApproximate Fidelity to |0> state (based on c2=0 counts): {fidelity_output_0:.4f}\")\n",
    "else:\n",
    "    print(\"\\nNo counts for output state '000'. Fidelity cannot be roughly estimated with this outputstate.\")"
   ]
  },
  {
   "cell_type": "markdown",
   "metadata": {},
   "source": [
    "## 11. Analyzing the Results\n",
    "\n",
    "Examine the histogram of measurement outcomes. Focus on the counts for the classical bit `c2` (the rightmost bit in the histogram labels, representing the measurement outcome of Bob's qubit q2).\n",
    "\n",
    "*   **If teleportation is successful:** You should observe a high probability for outcomes where `c2` is '0' (or '0' as the rightmost bit in the output string, e.g., '000', '010', '100', '110'). This indicates that Bob's qubit (q2) is, after the teleportation and inverse gate operations, primarily in the |0> state, which is what we expect if the teleportation and inverse operations worked correctly.\n",
    "*   **Examine the fidelity:** The approximate fidelity printed below the histogram gives a rough measure of how close the teleported state is to the expected |0> state (based on counts where c2=0). Higher fidelity values (closer to 1) indicate better teleportation performance in this simplified verification.\n",
    "\n",
    "**Congratulations!** You have simulated quantum teleportation using Qiskit. This lab demonstrates the key principles of teleportation: entanglement as a resource, Bell measurement, classical communication, and quantum state reconstruction."
   ]
  },
  {
   "cell_type": "code",
   "execution_count": 132,
   "metadata": {},
   "outputs": [
    {
     "data": {
      "image/png": "[encoded data removed]",
      "text/plain": [
       "<Figure size 640x480 with 1 Axes>"
      ]
     },
     "execution_count": 132,
     "metadata": {},
     "output_type": "execute_result"
    }
   ],
   "source": [
    "plot_histogram(counts)"
   ]
  },
  {
   "cell_type": "markdown",
   "metadata": {},
   "source": [
    "# Superdense Coding Lab\n",
    "\n",
    "This Jupyter Notebook demonstrates Superdense Coding, a quantum communication protocol that allows two classical bits of information to be transmitted from Alice to Bob by sending only *one qubit*. We will use Qiskit to simulate this process.\n",
    "\n",
    "## 1. Creating the Quantum Circuit\n",
    "\n",
    "We initialize a quantum circuit with two qubits and two classical bits.\n",
    "\n",
    "*   **q0:** Alice's qubit (used to encode and send classical bits).\n",
    "*   **q1:** Bob's qubit (used to receive and decode classical bits).\n",
    "*   **c0, c1:** Classical bits to store measurement results.\n",
    "\n",
    "Execute the code cell below to create the quantum circuit."
   ]
  },
  {
   "cell_type": "code",
   "execution_count": 133,
   "metadata": {},
   "outputs": [],
   "source": [
    "import numpy as np\n",
    "from numpy import pi, random\n",
    "import matplotlib.pyplot as plt\n",
    "\n",
    "from qiskit import QuantumCircuit, QuantumRegister, ClassicalRegister, transpile, assemble\n",
    "from qiskit_aer import AerSimulator\n",
    "from qiskit.visualization import plot_histogram\n",
    "\n",
    "# Creating Quantum Circuit with 2 qubits and 2 classical bits\n",
    "qr = QuantumRegister(2, 'q')  # q0: Alice's qubit, q1: Bob's qubit\n",
    "cr = ClassicalRegister(2, 'c')\n",
    "qc = QuantumCircuit(qr, cr)"
   ]
  },
  {
   "cell_type": "markdown",
   "metadata": {},
   "source": [
    "## 2. Creating the Entangled Pair (Bell State)\n",
    "\n",
    "Superdense coding relies on pre-shared entanglement between Alice and Bob. We create a maximally entangled Bell state (|Φ⁺⟩) between Alice's qubit (q0) and Bob's qubit (q1). This entangled pair serves as the quantum resource for superdense coding.\n",
    "\n",
    "Execute the code cell below to create the entangled Bell pair in the circuit."
   ]
  },
  {
   "cell_type": "code",
   "execution_count": 134,
   "metadata": {},
   "outputs": [
    {
     "data": {
      "text/plain": [
       "CircuitInstruction(operation=Instruction(name='barrier', num_qubits=2, num_clbits=0, params=[]), qubits=(Qubit(QuantumRegister(2, 'q'), 0), Qubit(QuantumRegister(2, 'q'), 1)), clbits=())"
      ]
     },
     "execution_count": 134,
     "metadata": {},
     "output_type": "execute_result"
    }
   ],
   "source": [
    "# Creating Entangled Pair (Bell State - Phi+) - Entanglement Resource!\n",
    "qc.h(qr[0])      # Hadamard gate on q0 (Alice's qubit)\n",
    "qc.cx(qr[0], qr[1])  # CNOT gate entangling q0 and q1 (Alice and Bob's qubits)\n",
    "qc.barrier() # Visual barrier for circuit diagram clarity"
   ]
  },
  {
   "cell_type": "markdown",
   "metadata": {},
   "source": [
    "## 3. Encoding Classical Information (Alice's Operations)\n",
    "\n",
    "Alice wants to send two classical bits to Bob. Let's define these bits as `bit1` and `bit2`.  Based on the values of `bit1` and `bit2`, Alice applies specific quantum gates to *her* qubit (q0) to encode the classical information into the entangled state.\n",
    "\n",
    "In this example, we will encode `bit1 = 0` and `bit2 = 1`. You can change these values to encode different classical bit pairs.\n",
    "\n",
    "*   **bit2 is encoded using the X gate:** If `bit2 = 1`, apply an X gate to q0.\n",
    "*   **bit1 is encoded using the Z gate:** If `bit1 = 1`, apply a Z gate to q0.\n",
    "\n",
    "Execute the code cell below to set the encoded bits and apply the corresponding encoding gates to Alice's qubit."
   ]
  },
  {
   "cell_type": "code",
   "execution_count": 135,
   "metadata": {},
   "outputs": [
    {
     "name": "stdout",
     "output_type": "stream",
     "text": [
      "Encoding Classical Bits: bit2=1, bit1=0\n"
     ]
    },
    {
     "data": {
      "text/plain": [
       "CircuitInstruction(operation=Instruction(name='barrier', num_qubits=2, num_clbits=0, params=[]), qubits=(Qubit(QuantumRegister(2, 'q'), 0), Qubit(QuantumRegister(2, 'q'), 1)), clbits=())"
      ]
     },
     "execution_count": 135,
     "metadata": {},
     "output_type": "execute_result"
    }
   ],
   "source": [
    "# Encoding Classical Information (Alice's operations) - Based on bit1 and bit2\n",
    "bit1 = 0  # Example: set to 0 or 1 - Try changing these!\n",
    "bit2 = 1  # Example: set to 0 or 1 - Try changing these!\n",
    "\n",
    "print(f\"Encoding Classical Bits: bit2={bit2}, bit1={bit1}\") # Print encoded bits\n",
    "\n",
    "if bit2 == 1: # Encoding bit2 using X gate\n",
    "    qc.x(qr[0])   # Apply X gate if bit2 is 1\n",
    "if bit1 == 1: # Encoding bit1 using Z gate\n",
    "    qc.z(qr[0])   # Apply Z gate if bit1 is 1\n",
    "qc.barrier() # Visual barrier"
   ]
  },
  {
   "cell_type": "markdown",
   "metadata": {},
   "source": [
    "## 4. Decoding the Information (Bob's Operations)\n",
    "\n",
    "To decode the information, Bob needs to perform a Bell basis measurement on the qubits he receives (qubit A from Alice and his own qubit B from the entangled pair).  This is done by applying a CNOT gate followed by a Hadamard gate on Alice's qubit (q0).\n",
    "\n",
    "Execute the code cell below to add the decoding gates (Bell basis measurement) to the circuit."
   ]
  },
  {
   "cell_type": "code",
   "execution_count": 136,
   "metadata": {},
   "outputs": [
    {
     "data": {
      "text/plain": [
       "CircuitInstruction(operation=Instruction(name='barrier', num_qubits=2, num_clbits=0, params=[]), qubits=(Qubit(QuantumRegister(2, 'q'), 0), Qubit(QuantumRegister(2, 'q'), 1)), clbits=())"
      ]
     },
     "execution_count": 136,
     "metadata": {},
     "output_type": "execute_result"
    }
   ],
   "source": [
    "# Decoding the Information (Bob's operations) - Bell Basis Measurement\n",
    "qc.cx(qr[0], qr[1])  # CNOT gate\n",
    "qc.h(qr[0])       # Hadamard gate on q0\n",
    "qc.barrier() # Visual barrier"
   ]
  },
  {
   "cell_type": "markdown",
   "metadata": {},
   "source": [
    "## 5. Measurement - Bob Decodes the Bits\n",
    "\n",
    "Bob measures both qubits (q0 and q1) in the computational basis. The measurement outcomes (classical bits c0 and c1) will reveal the two classical bits that Alice encoded.  `c0` will correspond to `bit2`, and `c1` will correspond to `bit1`.\n",
    "\n",
    "Execute the code cell below to add the measurements and visualize the circuit diagram. The circuit diagram will be displayed below the code cell."
   ]
  },
  {
   "cell_type": "code",
   "execution_count": 137,
   "metadata": {},
   "outputs": [
    {
     "name": "stdout",
     "output_type": "stream",
     "text": [
      "\n",
      "--- Superdense Coding Circuit Diagram ---\n"
     ]
    },
    {
     "data": {
      "image/png": "[encoded data removed]",
      "text/plain": [
       "<Figure size 956.183x284.278 with 1 Axes>"
      ]
     },
     "metadata": {},
     "output_type": "display_data"
    }
   ],
   "source": [
    "# Measurement - Bob measures both qubits to decode\n",
    "qc.measure(qr, cr) # Measure q0 and q1, store in c0 and c1\n",
    "\n",
    "# Circuit Visualization\n",
    "print(\"\\n--- Superdense Coding Circuit Diagram ---\")\n",
    "display(qc.draw(output='mpl')) # Display circuit diagram"
   ]
  },
  {
   "cell_type": "markdown",
   "metadata": {},
   "source": [
    "## 6. Circuit Simulation and Results\n",
    "\n",
    "Now, we simulate the quantum circuit using Qiskit's AerSimulator. We run the simulation for 1024 shots to get statistically meaningful results. After simulation, we plot a histogram of the measurement outcomes to visualize the results and determine the most probable outcome, which should correspond to the bits Alice encoded.\n",
    "\n",
    "Execute the code cell below to run the simulation and display the histogram of measurement outcomes. The histogram will appear below the code cell."
   ]
  },
  {
   "cell_type": "code",
   "execution_count": 138,
   "metadata": {},
   "outputs": [
    {
     "name": "stdout",
     "output_type": "stream",
     "text": [
      "\n",
      "--- Measurement Outcome Histogram ---\n",
      "\n",
      "Received bits (Bob - most probable outcome): 10\n",
      "\n",
      "Superdense Coding Successful! Encoded bits match received bits (most probable outcome).\n"
     ]
    }
   ],
   "source": [
    "# Circuit Simulation and Results\n",
    "simulator = AerSimulator()\n",
    "compiled_circuit = transpile(qc, simulator)\n",
    "job = simulator.run(compiled_circuit, shots=1024) # Increased shots for presentation\n",
    "result = job.result()\n",
    "counts = result.get_counts(qc)\n",
    "\n",
    "print(\"\\n--- Measurement Outcome Histogram ---\")\n",
    "plot_histogram(counts, title=\"Superdense Coding Measurement Outcomes\")\n",
    "plt.show() # Show histogram plot\n",
    "\n",
    "received_bits_probable = max(counts, key=counts.get) # Most probable outcome\n",
    "print(f\"\\nReceived bits (Bob - most probable outcome): {received_bits_probable}\") # Display received bits\n",
    "if received_bits_probable == f\"{bit2}{bit1}\": # Check if decoded correctly\n",
    "    print(\"\\nSuperdense Coding Successful! Encoded bits match received bits (most probable outcome).\")\n",
    "else:\n",
    "    print(\"\\nSuperdense Coding May Not Be Fully Successful (most probable outcome may not match encoded bits). Check histogram for probabilities.\")"
   ]
  },
  {
   "cell_type": "markdown",
   "metadata": {},
   "source": [
    "## 7. Analyzing the Results\n",
    "\n",
    "Examine the histogram of measurement outcomes. The labels on the histogram represent the measurement outcomes in the order `c1c0` (classical bit 1 then classical bit 0).  We are interested in the most probable outcome (the tallest bar in the histogram).\n",
    "\n",
    "*   **If superdense coding is successful:** The most probable outcome should correspond to the classical bits that Alice encoded (`bit2` and `bit1`).  For example, if you encoded `bit2=1` and `bit1=0`, you should expect the most probable outcome to be `\"10\"` (c1c0).  The output `Received bits (Bob - most probable outcome): ...` and the \"Superdense Coding Successful!\" message below the histogram will confirm if the decoding was successful for the most probable outcome.\n",
    "*   **Try changing the encoded bits:** Go back to step 3, change the values of `bit1` and `bit2` (e.g., try `bit1 = 1`, `bit2 = 0`, or `bit1 = 1`, `bit2 = 1`, or `bit1 = 0`, `bit2 = 0`), and re-run steps 3 through 6. Observe how the most probable outcome in the histogram changes to reflect the newly encoded bits.\n",
    "\n",
    "**Congratulations!** You have simulated superdense coding using Qiskit. This lab demonstrates how entanglement can be used to transmit two classical bits of information using only one qubit, showcasing a quantum advantage in communication!"
   ]
  },
  {
   "cell_type": "markdown",
   "metadata": {},
   "source": [
    "## CHSH Game Lab: Probing Quantum Non-Locality (Qiskit Aer Version - Reverted)\n",
    "\n",
    "This Jupyter Notebook demonstrates the CHSH game (Clauser-Horne-Shimony-Holt game), a simplified version of Bell Tests.  By simulating this game, we will illustrate the violation of Bell's inequalities and showcase the advantage of quantum strategies over classical strategies, highlighting the concept of quantum non-locality.  **This version reverts to using `qiskit_aer` for simulation, as in the original lab.**\n",
    "\n",
    "## 1. Setting up the Environment\n",
    "\n",
    "First, we import the necessary libraries from Qiskit and NumPy. Execute the code cell below to import these libraries."
   ]
  },
  {
   "cell_type": "code",
   "execution_count": 139,
   "metadata": {},
   "outputs": [],
   "source": [
    "import numpy as np\n",
    "from numpy import pi, random\n",
    "import matplotlib.pyplot as plt\n",
    "from collections import defaultdict\n",
    "\n",
    "from qiskit import QuantumCircuit, QuantumRegister, ClassicalRegister, transpile\n",
    "from qiskit_aer import AerSimulator\n",
    "from qiskit.visualization import plot_histogram\n",
    "from qiskit.circuit.library import RYGate, HGate, CXGate"
   ]
  },
  {
   "cell_type": "code",
   "execution_count": 140,
   "metadata": {},
   "outputs": [],
   "source": [
    "def chsh_game(strategy):\n",
    "    # This function runs the CHSH game, using the strategy (a function\n",
    "    # from two bits to two bits), returning 1 for a win and 0 for a loss.\n",
    "\n",
    "    # Choose x and y randomly\n",
    "    x, y = random.randint(0, 2), random.randint(0, 2)\n",
    "\n",
    "    # Use the strategy to determine a and b\n",
    "    a, b = strategy(x, y)\n",
    "\n",
    "    # Decide if the strategy wins or loses\n",
    "    if (a != b) == (x & y):\n",
    "        return 1  # Win\n",
    "    return 0  # Lose"
   ]
  },
  {
   "cell_type": "markdown",
   "metadata": {},
   "source": [
    "## 2. Defining the Classical Strategy\n",
    "\n",
    "This function defines the CHSH game's win/loss condition. It remains the same as in the original lab.\n",
    "\n",
    "Execute the code cell below to define the `classical_strategy` function."
   ]
  },
  {
   "cell_type": "code",
   "execution_count": 141,
   "metadata": {},
   "outputs": [],
   "source": [
    "def classical_strategy(x, y):\n",
    "    \"\"\"\n",
    "    A simple classical strategy where Alice and Bob always answer 0.\n",
    "    Returns True if they win for given questions (x, y), False otherwise.\n",
    "    \"\"\"\n",
    "    a = 0 # Alice always answers 0\n",
    "    b = 0 # Bob always answers 0\n",
    "    return (a ^ b) == (x & y) # Check win condition: x*y = a XOR b"
   ]
  },
  {
   "cell_type": "markdown",
   "metadata": {},
   "source": [
    "## 3. Defining the Quantum Circuit for the CHSH Strategy\n",
    "\n",
    "This function creates the QuantumCircuit for the CHSH game's quantum strategy. It remains the same from the previous version.\n",
    "\n",
    "Execute the code cell below to define the `chsh_circuit` function."
   ]
  },
  {
   "cell_type": "code",
   "execution_count": 142,
   "metadata": {},
   "outputs": [],
   "source": [
    "def chsh_circuit(x, y):\n",
    "    # This function creates a `QuantumCircuit` implementing the quantum\n",
    "    # strategy described above (including the e-bit preparation).\n",
    "\n",
    "    qc = QuantumCircuit(2, 2)\n",
    "\n",
    "    # Prepare an e-bit\n",
    "    qc.h(0)\n",
    "    qc.cx(0, 1)\n",
    "    qc.barrier()\n",
    "\n",
    "    # Alice's actions\n",
    "    if x == 0:\n",
    "        qc.ry(0, 0)\n",
    "    else:\n",
    "        qc.ry(-pi / 2, 0)\n",
    "    qc.measure(0, 0)\n",
    "\n",
    "    # Bob's actions\n",
    "    if y == 0:\n",
    "        qc.ry(-pi / 4, 1)\n",
    "    else:\n",
    "        qc.ry(pi / 4, 1)\n",
    "    qc.measure(1, 1)\n",
    "\n",
    "    return qc"
   ]
  },
  {
   "cell_type": "markdown",
   "metadata": {},
   "source": [
    "## 4. Defining the Quantum Strategy using Qiskit Aer Simulator\n",
    "\n",
    "This section is modified to revert to using `qiskit_aer`'s `AerSimulator` for circuit execution, as in the original lab. The `quantum_strategy` function now directly uses `AerSimulator` instead of Qiskit Runtime Sampler.\n",
    "\n",
    "Execute the code cell below to define the `quantum_strategy` function using AerSimulator."
   ]
  },
  {
   "cell_type": "code",
   "execution_count": 143,
   "metadata": {},
   "outputs": [],
   "source": [
    "def quantum_strategy(x, y):\n",
    "    # This function runs the appropriate quantum circuit defined above\n",
    "    # one time using Qiskit AerSimulator and returns the measurement results\n",
    "\n",
    "    # Create the Quantum Circuit for the given questions\n",
    "    qc = chsh_circuit(x, y)\n",
    "    \n",
    "    result = AerSimulator().run(qc, shots=1).result()\n",
    "    statistics = result.get_counts() # Get counts directly from AerSimulator result\n",
    "\n",
    "    # Determine the output bits and return them\n",
    "    bits = list(statistics.keys())[0]\n",
    "    a, b = bits[0], bits[1]\n",
    "    return a, b"
   ]
  },
  {
   "cell_type": "markdown",
   "metadata": {},
   "source": [
    "**Explanation of Changes in `quantum_strategy` (Reverted to AerSimulator):**\n",
    "\n",
    "- **Qiskit Runtime Code Removed:**\n",
    "    - The code lines related to initializing `QiskitRuntimeService`, selecting a backend, and initializing `Sampler` have been removed.\n",
    "\n",
    "- **AerSimulator Execution Restored:**\n",
    "    - The code now directly uses `AerSimulator().run(qc, shots=1).result()` to execute the `chsh_circuit`.\n",
    "    - `statistics = result.get_counts()` is used to get the counts dictionary directly from the `AerSimulator` result, which is the standard way to get counts when using `qiskit_aer`.\n",
    "\n",
    "- **Simplified Code:**\n",
    "    - The code is now simpler and more directly resembles the original lab's approach, without the added complexity of Qiskit Runtime Primitives.\n",
    "\n",
    "\n",
    "## 5. Defining the Classical Strategy\n",
    "\n",
    "The classical strategy function remains unchanged.\n",
    "\n",
    "Execute the code cell below to define the `classical_strategy` function."
   ]
  },
  {
   "cell_type": "code",
   "execution_count": 144,
   "metadata": {},
   "outputs": [],
   "source": [
    "def classical_strategy(x, y):\n",
    "    # This function implements just one example of an optimal classical\n",
    "    # strategy for the CHSH game. Other classical strategies can be\n",
    "    # implemented by changing the bit values assigned to a and b.\n",
    "\n",
    "    # Alice's answer\n",
    "    if x == 0:\n",
    "        a = 0\n",
    "    elif x == 1:\n",
    "        a = 1\n",
    "\n",
    "    # Bob's answer\n",
    "    if y == 0:\n",
    "        b = 1\n",
    "    elif y == 1:\n",
    "        b = 0\n",
    "\n",
    "    return a, b"
   ]
  },
  {
   "cell_type": "markdown",
   "metadata": {},
   "source": [
    "## 6. Playing the CHSH Game with Quantum and Classical Strategies\n",
    "\n",
    "The following code cells simulate the CHSH game for a number of rounds, both with the `quantum_strategy` (using Qiskit AerSimulator) and the `classical_strategy`. We then calculate the fraction of games won for each strategy.\n",
    "\n",
    "Execute the code cell below to play the game with the quantum strategy."
   ]
  },
  {
   "cell_type": "code",
   "execution_count": 145,
   "metadata": {},
   "outputs": [
    {
     "name": "stdout",
     "output_type": "stream",
     "text": [
      "Fraction of games won with Quantum Strategy (using AerSimulator): 0.849\n"
     ]
    }
   ],
   "source": [
    "NUM_GAMES = 1000\n",
    "TOTAL_SCORE_QUANTUM = 0\n",
    "\n",
    "for _ in range(NUM_GAMES):\n",
    "    TOTAL_SCORE_QUANTUM += chsh_game(quantum_strategy)\n",
    "\n",
    "print(\"Fraction of games won with Quantum Strategy (using AerSimulator):\", TOTAL_SCORE_QUANTUM / NUM_GAMES)"
   ]
  },
  {
   "cell_type": "markdown",
   "metadata": {},
   "source": [
    "Execute the code cell below to play the game with the classical strategy."
   ]
  },
  {
   "cell_type": "code",
   "execution_count": 146,
   "metadata": {},
   "outputs": [
    {
     "name": "stdout",
     "output_type": "stream",
     "text": [
      "Fraction of games won with Classical Strategy: 0.745\n"
     ]
    }
   ],
   "source": [
    "NUM_GAMES = 1000\n",
    "TOTAL_SCORE_CLASSICAL = 0\n",
    "\n",
    "for _ in range(NUM_GAMES):\n",
    "    TOTAL_SCORE_CLASSICAL += chsh_game(classical_strategy)\n",
    "\n",
    "print(\"Fraction of games won with Classical Strategy:\", TOTAL_SCORE_CLASSICAL / NUM_GAMES)"
   ]
  },
  {
   "cell_type": "markdown",
   "metadata": {},
   "source": [
    "## 7. Analyzing the Results\n",
    "\n",
    "Examine the output of the simulations.\n",
    "\n",
    "*   **Fraction of games won with Quantum Strategy (using AerSimulator):** You should observe a win rate significantly higher than 75%, demonstrating the quantum advantage in the CHSH game.\n",
    "*   **Fraction of games won with Classical Strategy:** This should be around 75%, representing the classical limit.\n",
    "\n",
    "The results should clearly show that the quantum strategy outperforms the classical strategy, illustrating the power of quantum mechanics and entanglement in violating Bell inequalities, now simulated using `qiskit_aer` directly.\n",
    "\n",
    "**Congratulations!** You have now implemented and simulated the CHSH game using `qiskit_aer`, replicating the simulation from the original lab and demonstrating the quantum advantage in the CHSH game."
   ]
  }
 ],
 "metadata": {
  "kernelspec": {
   "display_name": "Python 3",
   "language": "python",
   "name": "python3"
  },
  "language_info": {
   "codemirror_mode": {
    "name": "ipython",
    "version": 3
   },
   "file_extension": ".py",
   "mimetype": "text/x-python",
   "name": "python",
   "nbconvert_exporter": "python",
   "pygments_lexer": "ipython3",
   "version": "3.10.9"
  }
 },
 "nbformat": 4,
 "nbformat_minor": 2
}
