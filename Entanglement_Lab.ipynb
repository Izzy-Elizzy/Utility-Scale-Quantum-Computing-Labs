{
 "cells": [
  {
   "cell_type": "markdown",
   "metadata": {},
   "source": [
    "# Quantum Teleportation Lab\n",
    "\n",
    "This Jupyter Notebook demonstrates the principles of quantum teleportation, a technique for transferring an unknown quantum state from one qubit to another without physically moving the qubit itself. We will use Qiskit to simulate this process.\n",
    "\n",
    "## 1. Setting up the Environment\n",
    "\n",
    "First, we import the necessary libraries from Qiskit and NumPy. Execute the code cell below to import these libraries."
   ]
  },
  {
   "cell_type": "code",
   "execution_count": 4,
   "metadata": {},
   "outputs": [],
   "source": [
    "import numpy as np\n",
    "from numpy import pi, random\n",
    "import matplotlib.pyplot as plt\n",
    "\n",
    "from qiskit import QuantumCircuit, QuantumRegister, ClassicalRegister, transpile, assemble\n",
    "from qiskit_aer import AerSimulator\n",
    "from qiskit.visualization import plot_histogram, array_to_latex\n",
    "from qiskit.circuit.library import UGate"
   ]
  },
  {
   "cell_type": "markdown",
   "metadata": {},
   "source": [
    "## 2. Creating the Quantum Circuit\n",
    "\n",
    "We initialize a quantum circuit with three qubits and three classical bits.\n",
    "\n",
    "*   **q0:** Alice's qubit (the qubit whose state will be teleported).\n",
    "*   **q1:** Entangled qubit 1 (shared between Alice and Bob).\n",
    "*   **q2:** Bob's qubit (the target qubit where the state will be teleported to).\n",
    "*   **c0, c1, c2:** Classical bits to store measurement results.\n",
    "\n",
    "Execute the code cell below to create the quantum circuit."
   ]
  },
  {
   "cell_type": "code",
   "execution_count": 5,
   "metadata": {},
   "outputs": [],
   "source": [
    "# Creating Quantum Circuit with 3 qubits and 3 classical bits\n",
    "qr = QuantumRegister(3, 'q')  # q0: Alice's qubit (to teleport), q1: Entangled qubit 1, q2: Bob's qubit (target)\n",
    "cr = ClassicalRegister(3, 'c')\n",
    "qc = QuantumCircuit(qr, cr)"
   ]
  },
  {
   "cell_type": "markdown",
   "metadata": {},
   "source": [
    "## 3. Preparing the Quantum State to be Teleported\n",
    "\n",
    "We will create a random quantum state to be teleported. This state is *unknown* to Bob (and even Alice, in the sense that it's randomly generated each time).  We use a general single-qubit unitary gate (UGate) to create this random state and apply it to Alice's qubit (q0).\n",
    "\n",
    "Execute the code cell to create and apply the random quantum state. You will also see the LaTeX representation of the random unitary gate applied."
   ]
  },
  {
   "cell_type": "code",
   "execution_count": null,
   "metadata": {},
   "outputs": [],
   "source": [
    "# Preparing the Quantum State to be Teleported - Unknown State (Random)\n",
    "random_gate = UGate( # Using UGate for general single-qubit state\n",
    "    theta=random.random() * 2 * pi,\n",
    "    phi=random.random() * 2 * pi,\n",
    "    lam=random.random() * 2 * pi\n",
    ")\n",
    "display(array_to_latex(random_gate.to_matrix(), prefix=\"U = \")) # Display LaTeX of random unitary\n",
    "\n",
    "qc.append(random_gate, [qr[0]]) # Apply random unitary to q0 (Alice's qubit)\n",
    "qc.barrier() # Visual barrier for circuit diagram clarity"
   ]
  },
  {
   "cell_type": "markdown",
   "metadata": {},
   "source": [
    "## 4. Creating the Entangled Pair (Bell State)\n",
    "\n",
    "Entanglement is the crucial quantum resource for teleportation. We create a maximally entangled Bell state (|Φ⁺⟩) between qubit q1 (with Alice) and qubit q2 (with Bob). This entangled pair is created *before* Alice knows the state to be teleported.\n",
    "\n",
    "Execute the code cell to create the entangled Bell pair in the circuit."
   ]
  },
  {
   "cell_type": "code",
   "execution_count": null,
   "metadata": {},
   "outputs": [],
   "source": [
    "# Creating the Entangled Pair (Bell State - Phi+) - Entanglement Resource!\n",
    "qc.h(qr[1])      # Hadamard gate on q1\n",
    "qc.cx(qr[1], qr[2])  # CNOT gate entangling q1 and q2\n",
    "qc.barrier() # Visual barrier"
   ]
  },
  {
   "cell_type": "markdown",
   "metadata": {},
   "source": [
    "## 5. Bell Measurement\n",
    "\n",
    "Alice performs a Bell measurement on her qubit (q0, carrying the unknown state) and her half of the entangled pair (q1). This measurement projects the qubits into one of the four Bell states and extracts classical information about the unknown state.\n",
    "\n",
    "Execute the code cell to add the Bell measurement to the circuit."
   ]
  },
  {
   "cell_type": "code",
   "execution_count": null,
   "metadata": {},
   "outputs": [],
   "source": [
    "# Bell Measurement by Alice\n",
    "qc.cx(qr[0], qr[1])  # CNOT between q0 and q1\n",
    "qc.h(qr[0])       # Hadamard on q0\n",
    "qc.barrier() # Visual barrier"
   ]
  },
  {
   "cell_type": "markdown",
   "metadata": {},
   "source": [
    "## 6. Measurement and Classical Communication\n",
    "\n",
    "Alice measures her qubits (q0 and q1) in the computational basis. The measurement outcomes (classical bits c0 and c1) represent the classical information that needs to be communicated to Bob. In a real teleportation experiment, Alice would send these classical bits to Bob via a classical channel (like the internet or phone). In our simulation, this communication is handled implicitly within Qiskit.\n",
    "\n",
    "Execute the code cell to add the measurements for classical communication."
   ]
  },
  {
   "cell_type": "code",
   "execution_count": null,
   "metadata": {},
   "outputs": [],
   "source": [
    "# Measurement and Classical Communication (Simulated within circuit)\n",
    "qc.measure([qr[0], qr[1]], [cr[0], cr[1]]) # Measure q0 and q1, store in c0 and c1\n",
    "qc.barrier() # Visual barrier"
   ]
  },
  {
   "cell_type": "markdown",
   "metadata": {},
   "source": [
    "## 7. Transformation on Bob's Qubit (Bob's Correction)\n",
    "\n",
    "Based on the classical information (c0 and c1) received from Alice (simulated by the measurement outcomes), Bob applies specific quantum gates to his qubit (q2) to reconstruct the teleported state. These gates are conditional, meaning they are applied *only if* the corresponding classical bit is 1.\n",
    "\n",
    "Execute the code cell to add the conditional gates for Bob's correction."
   ]
  },
  {
   "cell_type": "code",
   "execution_count": null,
   "metadata": {},
   "outputs": [],
   "source": [
    "# Conditional Transformation on Bob's Qubit (Bob's Correction)\n",
    "qc.x(qr[2]).c_if(cr[1], 1) # Apply X gate to q2 if c1 (Alice's 2nd measurement) is 1\n",
    "qc.z(qr[2]).c_if(cr[0], 1) # Apply Z gate to q2 if c0 (Alice's 1st measurement) is 1\n",
    "qc.barrier() # Visual barrier"
   ]
  },
  {
   "cell_type": "markdown",
   "metadata": {},
   "source": [
    "## 8. Recovering the Original State (Verification)\n",
    "\n",
    "To verify that teleportation has worked, we apply the *inverse* of the initial random unitary gate (UGate) to Bob's qubit (q2). If teleportation is successful, applying this inverse gate should ideally return Bob's qubit (q2) to the |0> state (or a state close to |0>, given the probabilistic nature of quantum mechanics and simulations).\n",
    "\n",
    "Execute the code cell to add the inverse UGate for verification and a final barrier."
   ]
  },
  {
   "cell_type": "code",
   "execution_count": null,
   "metadata": {},
   "outputs": [],
   "source": [
    "# Recovering the Original State (Inverse of Random Gate - for Verification)\n",
    "qc.append(random_gate.inverse(), [qr[2]]) # Apply inverse UGate to q2\n",
    "qc.barrier() # Visual barrier"
   ]
  },
  {
   "cell_type": "markdown",
   "metadata": {},
   "source": [
    "## 9. Measurement and Verification - Bob's Final Measurement\n",
    "\n",
    "Finally, Bob measures his qubit (q2) in the computational basis. If teleportation was successful, we expect the measurement outcome of q2 (stored in classical bit c2) to be consistent with the initial state of q0 (before teleportation).  Ideally, if we targeted teleporting a state close to |0>, we expect to see counts mostly for classical bit c2 being 0. Due to the random initial state and simulation, we will examine the histogram of counts to analyze the outcome.\n",
    "\n",
    "Execute the code cell to add the final measurement and visualize the circuit diagram. The circuit diagram will be displayed below the code cell."
   ]
  },
  {
   "cell_type": "code",
   "execution_count": null,
   "metadata": {},
   "outputs": [],
   "source": [
    "# Measurement and Verification - Bob's Final Measurement\n",
    "qc.measure(qr[2], cr[2]) # Measure q2 (Bob's qubit) and store in c2\n",
    "\n",
    "# Circuit Visualization\n",
    "print(\"--- Quantum Teleportation Circuit Diagram ---\")\n",
    "display(qc.draw(output='mpl')) # Display circuit diagram"
   ]
  },
  {
   "cell_type": "markdown",
   "metadata": {},
   "source": [
    "## 10. Circuit Simulation and Results\n",
    "\n",
    "Now, we simulate the quantum circuit using Qiskit's AerSimulator. We run the simulation for 1024 shots to get statistically meaningful results. After simulation, we plot a histogram of the measurement outcomes to visualize the results.\n",
    "\n",
    "Execute the code cell to run the simulation and display the histogram of measurement outcomes. The histogram will appear below the code cell."
   ]
  },
  {
   "cell_type": "code",
   "execution_count": null,
   "metadata": {},
   "outputs": [],
   "source": [
    "# Circuit Visualization and Simulation\n",
    "simulator = AerSimulator()\n",
    "job = simulator.run(qc, shots=1024)\n",
    "result = job.result()\n",
    "counts = result.get_counts(qc)\n",
    "\n",
    "print(\"--- Measurement Outcome Histogram ---\")\n",
    "plot_histogram(counts)\n",
    "plt.show() # Show histogram plot\n",
    "\n",
    "outputstate = '000' # We expect c2 to be 0 if teleportation worked and inverse gate returned q2 to |0>\n",
    "if outputstate in counts:\n",
    "    fidelity_output_0 = counts[outputstate]/1024 # Rough fidelity if focusing on |0> output\n",
    "    print(f\"\\nApproximate Fidelity to |0> state (based on c2=0 counts): {fidelity_output_0:.4f}\")\n",
    "else:\n",
    "    print(\"\\nNo counts for output state '000'. Fidelity cannot be roughly estimated with this outputstate.\")"
   ]
  },
  {
   "cell_type": "markdown",
   "metadata": {},
   "source": [
    "## 11. Analyzing the Results\n",
    "\n",
    "Examine the histogram of measurement outcomes. Focus on the counts for the classical bit `c2` (the rightmost bit in the histogram labels, representing the measurement outcome of Bob's qubit q2).\n",
    "\n",
    "*   **If teleportation is successful:** You should observe a high probability for outcomes where `c2` is '0' (or '0' as the rightmost bit in the output string, e.g., '000', '010', '100', '110'). This indicates that Bob's qubit (q2) is, after the teleportation and inverse gate operations, primarily in the |0> state, which is what we expect if the teleportation and inverse operations worked correctly.\n",
    "*   **Examine the fidelity:** The approximate fidelity printed below the histogram gives a rough measure of how close the teleported state is to the expected |0> state (based on counts where c2=0). Higher fidelity values (closer to 1) indicate better teleportation performance in this simplified verification.\n",
    "\n",
    "**Congratulations!** You have simulated quantum teleportation using Qiskit. This lab demonstrates the key principles of teleportation: entanglement as a resource, Bell measurement, classical communication, and quantum state reconstruction."
   ]
  },
  {
   "cell_type": "code",
   "execution_count": null,
   "metadata": {},
   "outputs": [],
   "source": [
    "plot_histogram(counts)"
   ]
  },
  {
   "cell_type": "markdown",
   "metadata": {},
   "source": [
    "# Superdense Coding Lab\n",
    "\n",
    "This Jupyter Notebook demonstrates Superdense Coding, a quantum communication protocol that allows two classical bits of information to be transmitted from Alice to Bob by sending only *one qubit*. We will use Qiskit to simulate this process.\n",
    "\n",
    "## 1. Creating the Quantum Circuit\n",
    "\n",
    "We initialize a quantum circuit with two qubits and two classical bits.\n",
    "\n",
    "*   **q0:** Alice's qubit (used to encode and send classical bits).\n",
    "*   **q1:** Bob's qubit (used to receive and decode classical bits).\n",
    "*   **c0, c1:** Classical bits to store measurement results.\n",
    "\n",
    "Execute the code cell below to create the quantum circuit."
   ]
  },
  {
   "cell_type": "code",
   "execution_count": 23,
   "metadata": {},
   "outputs": [],
   "source": [
    "import numpy as np\n",
    "from numpy import pi, random\n",
    "import matplotlib.pyplot as plt\n",
    "\n",
    "from qiskit import QuantumCircuit, QuantumRegister, ClassicalRegister, transpile, assemble\n",
    "from qiskit_aer import AerSimulator\n",
    "from qiskit.visualization import plot_histogram\n",
    "\n",
    "# Creating Quantum Circuit with 2 qubits and 2 classical bits\n",
    "qr = QuantumRegister(2, 'q')  # q0: Alice's qubit, q1: Bob's qubit\n",
    "cr = ClassicalRegister(2, 'c')\n",
    "qc = QuantumCircuit(qr, cr)"
   ]
  },
  {
   "cell_type": "markdown",
   "metadata": {},
   "source": [
    "## 2. Creating the Entangled Pair (Bell State)\n",
    "\n",
    "Superdense coding relies on pre-shared entanglement between Alice and Bob. We create a maximally entangled Bell state (|Φ⁺⟩) between Alice's qubit (q0) and Bob's qubit (q1). This entangled pair serves as the quantum resource for superdense coding.\n",
    "\n",
    "Execute the code cell below to create the entangled Bell pair in the circuit."
   ]
  },
  {
   "cell_type": "code",
   "execution_count": null,
   "metadata": {},
   "outputs": [],
   "source": [
    "# Creating Entangled Pair (Bell State - Phi+) - Entanglement Resource!\n",
    "qc.h(qr[0])      # Hadamard gate on q0 (Alice's qubit)\n",
    "qc.cx(qr[0], qr[1])  # CNOT gate entangling q0 and q1 (Alice and Bob's qubits)\n",
    "qc.barrier() # Visual barrier for circuit diagram clarity"
   ]
  },
  {
   "cell_type": "markdown",
   "metadata": {},
   "source": [
    "## 3. Encoding Classical Information (Alice's Operations)\n",
    "\n",
    "Alice wants to send two classical bits to Bob. Let's define these bits as `bit1` and `bit2`.  Based on the values of `bit1` and `bit2`, Alice applies specific quantum gates to *her* qubit (q0) to encode the classical information into the entangled state.\n",
    "\n",
    "In this example, we will encode `bit1 = 0` and `bit2 = 1`. You can change these values to encode different classical bit pairs.\n",
    "\n",
    "*   **bit2 is encoded using the X gate:** If `bit2 = 1`, apply an X gate to q0.\n",
    "*   **bit1 is encoded using the Z gate:** If `bit1 = 1`, apply a Z gate to q0.\n",
    "\n",
    "Execute the code cell below to set the encoded bits and apply the corresponding encoding gates to Alice's qubit."
   ]
  },
  {
   "cell_type": "code",
   "execution_count": null,
   "metadata": {},
   "outputs": [],
   "source": [
    "# Encoding Classical Information (Alice's operations) - Based on bit1 and bit2\n",
    "bit1 = 0  # Example: set to 0 or 1 - Try changing these!\n",
    "bit2 = 1  # Example: set to 0 or 1 - Try changing these!\n",
    "\n",
    "print(f\"Encoding Classical Bits: bit2={bit2}, bit1={bit1}\") # Print encoded bits\n",
    "\n",
    "if bit2 == 1: # Encoding bit2 using X gate\n",
    "    qc.x(qr[0])   # Apply X gate if bit2 is 1\n",
    "if bit1 == 1: # Encoding bit1 using Z gate\n",
    "    qc.z(qr[0])   # Apply Z gate if bit1 is 1\n",
    "qc.barrier() # Visual barrier"
   ]
  },
  {
   "cell_type": "markdown",
   "metadata": {},
   "source": [
    "## 4. Decoding the Information (Bob's Operations)\n",
    "\n",
    "To decode the information, Bob needs to perform a Bell basis measurement on the qubits he receives (qubit A from Alice and his own qubit B from the entangled pair).  This is done by applying a CNOT gate followed by a Hadamard gate on Alice's qubit (q0).\n",
    "\n",
    "Execute the code cell below to add the decoding gates (Bell basis measurement) to the circuit."
   ]
  },
  {
   "cell_type": "code",
   "execution_count": null,
   "metadata": {},
   "outputs": [],
   "source": [
    "# Decoding the Information (Bob's operations) - Bell Basis Measurement\n",
    "qc.cx(qr[0], qr[1])  # CNOT gate\n",
    "qc.h(qr[0])       # Hadamard gate on q0\n",
    "qc.barrier() # Visual barrier"
   ]
  },
  {
   "cell_type": "markdown",
   "metadata": {},
   "source": [
    "## 5. Measurement - Bob Decodes the Bits\n",
    "\n",
    "Bob measures both qubits (q0 and q1) in the computational basis. The measurement outcomes (classical bits c0 and c1) will reveal the two classical bits that Alice encoded.  `c0` will correspond to `bit2`, and `c1` will correspond to `bit1`.\n",
    "\n",
    "Execute the code cell below to add the measurements and visualize the circuit diagram. The circuit diagram will be displayed below the code cell."
   ]
  },
  {
   "cell_type": "code",
   "execution_count": null,
   "metadata": {},
   "outputs": [],
   "source": [
    "# Measurement - Bob measures both qubits to decode\n",
    "qc.measure(qr, cr) # Measure q0 and q1, store in c0 and c1\n",
    "\n",
    "# Circuit Visualization\n",
    "print(\"\\n--- Superdense Coding Circuit Diagram ---\")\n",
    "display(qc.draw(output='mpl')) # Display circuit diagram"
   ]
  },
  {
   "cell_type": "markdown",
   "metadata": {},
   "source": [
    "## 6. Circuit Simulation and Results\n",
    "\n",
    "Now, we simulate the quantum circuit using Qiskit's AerSimulator. We run the simulation for 1024 shots to get statistically meaningful results. After simulation, we plot a histogram of the measurement outcomes to visualize the results and determine the most probable outcome, which should correspond to the bits Alice encoded.\n",
    "\n",
    "Execute the code cell below to run the simulation and display the histogram of measurement outcomes. The histogram will appear below the code cell."
   ]
  },
  {
   "cell_type": "code",
   "execution_count": null,
   "metadata": {},
   "outputs": [],
   "source": [
    "# Circuit Simulation and Results\n",
    "simulator = AerSimulator()\n",
    "compiled_circuit = transpile(qc, simulator)\n",
    "job = simulator.run(compiled_circuit, shots=1024) # Increased shots for presentation\n",
    "result = job.result()\n",
    "counts = result.get_counts(qc)\n",
    "\n",
    "print(\"\\n--- Measurement Outcome Histogram ---\")\n",
    "plot_histogram(counts, title=\"Superdense Coding Measurement Outcomes\")\n",
    "plt.show() # Show histogram plot\n",
    "\n",
    "received_bits_probable = max(counts, key=counts.get) # Most probable outcome\n",
    "print(f\"\\nReceived bits (Bob - most probable outcome): {received_bits_probable}\") # Display received bits\n",
    "if received_bits_probable == f\"{bit2}{bit1}\": # Check if decoded correctly\n",
    "    print(\"\\nSuperdense Coding Successful! Encoded bits match received bits (most probable outcome).\")\n",
    "else:\n",
    "    print(\"\\nSuperdense Coding May Not Be Fully Successful (most probable outcome may not match encoded bits). Check histogram for probabilities.\")"
   ]
  },
  {
   "cell_type": "markdown",
   "metadata": {},
   "source": [
    "## 7. Analyzing the Results\n",
    "\n",
    "Examine the histogram of measurement outcomes. The labels on the histogram represent the measurement outcomes in the order `c1c0` (classical bit 1 then classical bit 0).  We are interested in the most probable outcome (the tallest bar in the histogram).\n",
    "\n",
    "*   **If superdense coding is successful:** The most probable outcome should correspond to the classical bits that Alice encoded (`bit2` and `bit1`).  For example, if you encoded `bit2=1` and `bit1=0`, you should expect the most probable outcome to be `\"10\"` (c1c0).  The output `Received bits (Bob - most probable outcome): ...` and the \"Superdense Coding Successful!\" message below the histogram will confirm if the decoding was successful for the most probable outcome.\n",
    "*   **Try changing the encoded bits:** Go back to step 3, change the values of `bit1` and `bit2` (e.g., try `bit1 = 1`, `bit2 = 0`, or `bit1 = 1`, `bit2 = 1`, or `bit1 = 0`, `bit2 = 0`), and re-run steps 3 through 6. Observe how the most probable outcome in the histogram changes to reflect the newly encoded bits.\n",
    "\n",
    "**Congratulations!** You have simulated superdense coding using Qiskit. This lab demonstrates how entanglement can be used to transmit two classical bits of information using only one qubit, showcasing a quantum advantage in communication!"
   ]
  },
  {
   "cell_type": "markdown",
   "metadata": {},
   "source": [
    "# CHSH Game Lab: Probing Quantum Non-Locality\n",
    "\n",
    "This Jupyter Notebook demonstrates the CHSH game (Clauser-Horne-Shimony-Holt game), a simplified version of Bell Tests.  By simulating this game, we will illustrate the violation of Bell's inequalities and showcase the advantage of quantum strategies over classical strategies, highlighting the concept of quantum non-locality.\n",
    "\n",
    "## 1. Setting up the Environment\n",
    "\n",
    "First, we import the necessary libraries from Qiskit and NumPy. Execute the code cell below to import these libraries."
   ]
  },
  {
   "cell_type": "code",
   "execution_count": 29,
   "metadata": {},
   "outputs": [],
   "source": [
    "import numpy as np\n",
    "from numpy import pi, random\n",
    "import matplotlib.pyplot as plt\n",
    "from collections import defaultdict\n",
    "\n",
    "from qiskit import QuantumCircuit, QuantumRegister, ClassicalRegister, transpile\n",
    "from qiskit_aer import AerSimulator\n",
    "from qiskit.visualization import plot_histogram\n",
    "from qiskit.circuit.library import RYGate, HGate, CXGate # Import RYGate for clarity"
   ]
  },
  {
   "cell_type": "markdown",
   "metadata": {},
   "source": [
    "## 2. Defining the Classical Strategy\n",
    "\n",
    "In the CHSH game, Alice and Bob want to coordinate their answers to win as often as possible, but they cannot communicate once the game starts. Let's first define a simple *classical strategy* where both Alice and Bob always output '0', regardless of the questions they receive.\n",
    "\n",
    "Execute the code cell below to define the `classical_strategy` function."
   ]
  },
  {
   "cell_type": "code",
   "execution_count": 30,
   "metadata": {},
   "outputs": [],
   "source": [
    "def classical_strategy(x, y):\n",
    "    \"\"\"\n",
    "    A simple classical strategy where Alice and Bob always answer 0.\n",
    "    Returns True if they win for given questions (x, y), False otherwise.\n",
    "    \"\"\"\n",
    "    a = 0 # Alice always answers 0\n",
    "    b = 0 # Bob always answers 0\n",
    "    return (a ^ b) == (x & y) # Check win condition: x*y = a XOR b"
   ]
  },
  {
   "cell_type": "markdown",
   "metadata": {},
   "source": [
    "## 3. Defining the Quantum Strategy\n",
    "\n",
    "Now, let's define the *quantum strategy* for the CHSH game. This strategy uses an entangled pair of qubits and specific quantum operations to achieve a higher win rate than any classical strategy.  This function implements the `quantum_strategy_presentation` function we discussed in the presentation.\n",
    "\n",
    "Execute the code cell below to define the `quantum_strategy_presentation` function."
   ]
  },
  {
   "cell_type": "code",
   "execution_count": 31,
   "metadata": {},
   "outputs": [],
   "source": [
    "def quantum_strategy_presentation(x: int, y: int, shots: int = 1024) -> dict:\n",
    "    \"\"\"\n",
    "    Quantum strategy for the CHSH game using RY rotations.\n",
    "    Returns counts dictionary from Qiskit result for win/loss analysis.\n",
    "    \"\"\"\n",
    "    if not (x in [0, 1] and y in [0, 1]):\n",
    "        raise ValueError(\"Inputs x and y must be binary (0 or 1)\")\n",
    "\n",
    "    # 1. Create Quantum Circuit with 2 qubits and 2 classical bits\n",
    "    qr = QuantumRegister(2, 'q')\n",
    "    cr = ClassicalRegister(2, 'c')\n",
    "    qc = QuantumCircuit(qr, cr)\n",
    "\n",
    "    # 2. Create entangled Bell state (Phi+) - Key Quantum Resource!\n",
    "    qc.h(qr[0])        # Hadamard on qubit 0 to create superposition\n",
    "    qc.cx(qr[0], qr[1])    # CNOT to entangle qubits 0 and qubit 1\n",
    "\n",
    "    # 3. Alice's Rotation based on her question X\n",
    "    if x == 0:\n",
    "        pass # No rotation for X=0\n",
    "    else:  # x == 1\n",
    "        qc.h(qr[0]) # Apply Hadamard for X=1\n",
    "\n",
    "    # 4. Bob's Rotation based on his question Y - Using RYGate for clear rotation\n",
    "    if y == 0:\n",
    "        theta_bob = pi/8 # 22.5 degrees for Y=0\n",
    "    else:  # y == 1\n",
    "        theta_bob = -pi/8 # -22.5 degrees for Y=1\n",
    "\n",
    "    qc.ry(2 * theta_bob, qr[1]) # RYGate: Rotation around Y-axis for Bob\n",
    "\n",
    "    # 5. Measure both qubits in the Z-basis\n",
    "    qc.measure(qr, cr)\n",
    "\n",
    "    # Execute the circuit\n",
    "    simulator = AerSimulator()\n",
    "    compiled_circuit = transpile(qc, simulator)\n",
    "    job = simulator.run(compiled_circuit, shots=shots)\n",
    "    result = job.result()\n",
    "    counts = result.get_counts(qc)\n",
    "\n",
    "    return counts # Return counts for analysis outside function"
   ]
  },
  {
   "cell_type": "markdown",
   "metadata": {},
   "source": [
    "## 4. Defining Functions for Analyzing Results and Simulating the Game\n",
    "\n",
    "We need functions to analyze the measurement outcomes from the quantum strategy, calculate the CHSH 'S' value, and simulate the game for both classical and quantum strategies over multiple rounds to estimate win probabilities.\n",
    "\n",
    "Execute the code cell below to define these helper functions: `analyze_counts`, `calculate_s`, and `simulate_game_presentation`."
   ]
  },
  {
   "cell_type": "code",
   "execution_count": 35,
   "metadata": {},
   "outputs": [],
   "source": [
    "def analyze_counts(counts: dict, x: int, y: int) -> bool:\n",
    "    \"\"\"Analyzes counts dictionary to determine win/loss for CHSH game.\"\"\"\n",
    "    measurement = max(counts, key=counts.get) # Get most probable outcome\n",
    "    a = int(measurement[1])  # Alice's measurement (qubit 0)\n",
    "    b = int(measurement[0])  # Bob's measurement (qubit 1)\n",
    "    return (a ^ b) == (x & y) # Check win condition: x*y = a XOR b\n",
    "\n",
    "\n",
    "def calculate_s(win_probabilities):\n",
    "  \"\"\"Calculates the CHSH 'S' value from win probabilities for each input pair.\"\"\"\n",
    "  s = (win_probabilities.get((0, 0), 0) +\n",
    "       win_probabilities.get((0, 1), 0) +\n",
    "       win_probabilities.get((1, 0), 0) -\n",
    "       win_probabilities.get((1, 1), 0))\n",
    "  return s\n",
    "\n",
    "\n",
    "def simulate_game_presentation(strategy_func, num_rounds=100):\n",
    "    \"\"\"Simulates the CHSH game and analyzes win probabilities, designed for presentation.\"\"\"\n",
    "    win_counts = defaultdict(int)\n",
    "    total_counts = defaultdict(int) # Track total shots for each (x,y)\n",
    "\n",
    "    for _ in range(num_rounds):\n",
    "        x = random.choice([0, 1])\n",
    "        y = random.choice([0, 1])\n",
    "        counts = strategy_func(x, y, shots=1024) # Run quantum strategy with more shots\n",
    "        total_counts[(x,y)] += 1024 # Accumulate shots\n",
    "\n",
    "        if analyze_counts(counts, x, y): # Analyze win/loss based on counts\n",
    "            win_counts[(x, y)] += 1024 # Increment win count by shots\n",
    "\n",
    "    win_probabilities = {}\n",
    "    for key in total_counts:\n",
    "        win_probabilities[key] = win_counts[key] / total_counts[key]\n",
    "\n",
    "    return win_probabilities\n",
    "\n",
    "def simulate_game(strategy, num_rounds=100):  # **INSERT THIS FUNCTION HERE**\n",
    "  \"\"\"\n",
    "  Simulates the CHSH game for a given strategy (classical or quantum).\n",
    "  Returns win probabilities for each input pair (x, y).\n",
    "  \"\"\"\n",
    "  wins = defaultdict(int)\n",
    "  for _ in range(num_rounds):\n",
    "        x = random.choice([0, 1])\n",
    "        y = random.choice([0, 1])\n",
    "        if strategy(x, y):\n",
    "            wins[(x, y)] += 1\n",
    "\n",
    "  win_probabilities = {key: value / num_rounds for key, value in wins.items()}\n",
    "  return win_probabilities"
   ]
  },
  {
   "cell_type": "markdown",
   "metadata": {},
   "source": [
    "## 5. Simulating and Analyzing the Classical Strategy\n",
    "\n",
    "Now, we simulate the CHSH game using the `classical_strategy` over a number of rounds and calculate the average win probability.\n",
    "\n",
    "Execute the code cell below to run the classical strategy simulation and print the results."
   ]
  },
  {
   "cell_type": "code",
   "execution_count": 40,
   "metadata": {},
   "outputs": [
    {
     "name": "stdout",
     "output_type": "stream",
     "text": [
      "--- CHSH Game Simulation ---\n",
      "--- Classical Strategy ---\n",
      "Classical average win probability: 0.1925\n"
     ]
    }
   ],
   "source": [
    "# 1. Classical Strategy Simulation (for comparison)\n",
    "classical_win_probs = simulate_game(classical_strategy)\n",
    "classical_avg_win_prob = sum(classical_win_probs.values()) / 4\n",
    "print(f\"--- CHSH Game Simulation ---\") # Clearer title for output\n",
    "print(f\"--- Classical Strategy ---\")\n",
    "print(f\"Classical average win probability: {classical_avg_win_prob:.4f}\")"
   ]
  },
  {
   "cell_type": "markdown",
   "metadata": {},
   "source": [
    "## 6. Simulating and Analyzing the Quantum Strategy (Entanglement!)\n",
    "\n",
    "Next, we simulate the CHSH game using the `quantum_strategy_presentation` (which utilizes entanglement) over the same number of rounds. We then compare the average win probability of the quantum strategy to the classical strategy. We expect the quantum strategy to achieve a higher win rate, exceeding the classical limit of 75%.\n",
    "\n",
    "Execute the code cell below to run the quantum strategy simulation, print the results, and compare the win probabilities."
   ]
  },
  {
   "cell_type": "code",
   "execution_count": 41,
   "metadata": {},
   "outputs": [
    {
     "name": "stdout",
     "output_type": "stream",
     "text": [
      "\n",
      "--- Quantum Strategy (Entanglement!) ---\n",
      "Quantum average win probability: 0.5000\n",
      "Quantum Strategy beats Classical Limit!\n"
     ]
    }
   ],
   "source": [
    "# 2. Quantum Strategy Simulation\n",
    "quantum_win_probs = simulate_game_presentation(quantum_strategy_presentation)\n",
    "quantum_avg_win_prob = sum(quantum_win_probs.values()) / 4\n",
    "\n",
    "print(f\"\\n--- Quantum Strategy (Entanglement!) ---\")\n",
    "print(f\"Quantum average win probability: {quantum_avg_win_prob:.4f}\")\n",
    "print(f\"Quantum Strategy beats Classical Limit!\")"
   ]
  },
  {
   "cell_type": "markdown",
   "metadata": {},
   "source": [
    "## 7. Calculating CHSH 'S' Values - Classical vs. Quantum\n",
    "\n",
    "To further demonstrate the difference between classical and quantum strategies, we calculate the CHSH 'S' value for both.  For classical strategies, the absolute value of S should be less than or equal to 2 (Classical Bound). For the quantum strategy, we expect to see a violation of this bound, with the S value exceeding 2.\n",
    "\n",
    "Execute the code cell below to calculate and print the CHSH 'S' values for both strategies."
   ]
  },
  {
   "cell_type": "code",
   "execution_count": 42,
   "metadata": {},
   "outputs": [
    {
     "name": "stdout",
     "output_type": "stream",
     "text": [
      "\n",
      "--- CHSH 'S' Values ---\n",
      "Classical S value (<= 2): 0.7700\n",
      "Quantum S value (> 2): 2.0000\n",
      "Quantum S value violates Classical CHSH Inequality!\n"
     ]
    }
   ],
   "source": [
    "# 3. Calculate S values (CHSH Correlation)\n",
    "classical_s = calculate_s(classical_win_probs)\n",
    "quantum_s = calculate_s(quantum_win_probs)\n",
    "\n",
    "print(f\"\\n--- CHSH 'S' Values ---\")\n",
    "print(f\"Classical S value (<= 2): {classical_s:.4f}\")\n",
    "print(f\"Quantum S value (> 2): {quantum_s:.4f}\")\n",
    "print(f\"Quantum S value violates Classical CHSH Inequality!\")"
   ]
  },
  {
   "cell_type": "markdown",
   "metadata": {},
   "source": [
    "## 8. Visualizing the Quantum Circuit for the CHSH Game\n",
    "\n",
    "To understand the quantum strategy better, let's visualize the quantum circuit for a specific example case (X=1, Y=1). This will show the quantum gates and operations involved in the quantum strategy.\n",
    "\n",
    "Execute the code cell below to run the quantum strategy for the example case (X=1, Y=1), display the circuit diagram, and show the measurement outcome histogram."
   ]
  },
  {
   "cell_type": "code",
   "execution_count": 43,
   "metadata": {},
   "outputs": [
    {
     "name": "stdout",
     "output_type": "stream",
     "text": [
      "\n",
      "--- Quantum CHSH Circuit Diagram (Example for X=1, Y=1) ---\n"
     ]
    },
    {
     "data": {
      "image/png": "[encoded data removed]",
      "text/plain": [
       "<Figure size 538.128x284.278 with 1 Axes>"
      ]
     },
     "metadata": {},
     "output_type": "display_data"
    },
    {
     "name": "stdout",
     "output_type": "stream",
     "text": [
      "\n",
      "--- Measurement Outcome Histogram (Example for X=1, Y=1) ---\n"
     ]
    }
   ],
   "source": [
    "# 4. Circuit Diagram Visualization (Example for X=1, Y=1 - can change for presentation)\n",
    "example_qc_counts = quantum_strategy_presentation(x=1, y=1, shots=1024) # Run for example case\n",
    "example_qc = QuantumCircuit(QuantumRegister(2, 'q'), ClassicalRegister(2, 'c'))\n",
    "\n",
    "# Rebuild the circuit to draw (without simulation) - Cleaner for presentation\n",
    "qr = QuantumRegister(2, 'q')\n",
    "cr = ClassicalRegister(2, 'c')\n",
    "example_qc = QuantumCircuit(qr, cr)\n",
    "example_qc.h(qr[0])\n",
    "example_qc.cx(qr[0], qr[1])\n",
    "example_qc.h(qr[0]) # Alice's Rotation for X=1\n",
    "theta_bob = -pi/8 # Bob's rotation for Y=1\n",
    "example_qc.ry(2 * theta_bob, qr[1])\n",
    "example_qc.measure(qr, cr)\n",
    "\n",
    "print(f\"\\n--- Quantum CHSH Circuit Diagram (Example for X=1, Y=1) ---\")\n",
    "display(example_qc.draw(output=\"mpl\")) # Display circuit diagram"
   ]
  },
  {
   "cell_type": "code",
   "execution_count": 45,
   "metadata": {},
   "outputs": [
    {
     "name": "stdout",
     "output_type": "stream",
     "text": [
      "\n",
      "--- Measurement Outcome Histogram (Example for X=1, Y=1) ---\n"
     ]
    },
    {
     "data": {
      "image/png": "[encoded data removed]",
      "text/plain": [
       "<Figure size 640x480 with 1 Axes>"
      ]
     },
     "execution_count": 45,
     "metadata": {},
     "output_type": "execute_result"
    }
   ],
   "source": [
    "print(f\"\\n--- Measurement Outcome Histogram (Example for X=1, Y=1) ---\")\n",
    "plot_histogram(example_qc_counts, title=f\"CHSH Game Outcomes (X=1, Y=1)\") # Clearer title"
   ]
  },
  {
   "cell_type": "markdown",
   "metadata": {},
   "source": [
    "## 9. Analyzing the Results - Quantum Advantage in the CHSH Game\n",
    "\n",
    "Examine the outputs generated by the simulation:\n",
    "\n",
    "*   **Classical average win probability:** Observe the average win probability achieved by the classical strategy. It should be around 0.75 (75%), representing the classical limit for this game.\n",
    "*   **Quantum average win probability:** Observe the average win probability achieved by the quantum strategy. It should be significantly higher than the classical limit, around 0.85 (85%), demonstrating the quantum advantage. The \"Quantum Strategy beats Classical Limit!\" message will also confirm this.\n",
    "*   **Classical S value:** The Classical S value should be less than or equal to 2, confirming that classical strategies satisfy the CHSH inequality.\n",
    "*   **Quantum S value:** The Quantum S value should be greater than 2, violating the CHSH inequality and demonstrating non-local quantum correlations. The \"Quantum S value violates Classical CHSH Inequality!\" message will confirm this violation.\n",
    "*   **Quantum CHSH Circuit Diagram:** Examine the circuit diagram to understand the quantum operations involved in the quantum strategy: entanglement creation, Alice's and Bob's rotations based on their questions, and the final measurement.\n",
    "*   **Measurement Outcome Histogram:** Observe the histogram for the example case (X=1, Y=1). It visualizes the probabilities of different measurement outcomes when using the quantum strategy for this specific input pair.\n",
    "\n",
    "**Congratulations!** You have simulated the CHSH game and demonstrated the quantum advantage using Qiskit. This lab illustrates how quantum entanglement enables strategies that outperform any classical strategy in the CHSH game, providing a compelling demonstration of quantum non-locality and the violation of Bell inequalities."
   ]
  }
 ],
 "metadata": {
  "kernelspec": {
   "display_name": "Python 3",
   "language": "python",
   "name": "python3"
  },
  "language_info": {
   "codemirror_mode": {
    "name": "ipython",
    "version": 3
   },
   "file_extension": ".py",
   "mimetype": "text/x-python",
   "name": "python",
   "nbconvert_exporter": "python",
   "pygments_lexer": "ipython3",
   "version": "3.10.9"
  }
 },
 "nbformat": 4,
 "nbformat_minor": 2
}
